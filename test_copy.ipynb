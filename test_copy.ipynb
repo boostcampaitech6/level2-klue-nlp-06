{
 "cells": [
  {
   "cell_type": "code",
   "execution_count": 1,
   "metadata": {},
   "outputs": [],
   "source": [
    "import pandas as pd\n",
    "import numpy as np\n",
    "import sklearn\n",
    "from sklearn.metrics import accuracy_score, recall_score, precision_score, f1_score\n",
    "import seaborn as sns\n",
    "import matplotlib.pyplot as plt\n",
    "import pickle\n",
    "\n",
    "import os"
   ]
  },
  {
   "cell_type": "code",
   "execution_count": 5,
   "metadata": {},
   "outputs": [],
   "source": [
    "# num2label 파일 로드\n",
    "num2label = \"./utils/dict_num_to_label.pkl\"\n",
    "with open(num2label, \"rb\") as f:\n",
    "    n2l = pickle.load(f)"
   ]
  },
  {
   "cell_type": "code",
   "execution_count": 6,
   "metadata": {},
   "outputs": [],
   "source": [
    "import re\n",
    "\n",
    "model_paths = os.listdir(\"/data/ephemeral/level2-klue-nlp-06/outputs\")"
   ]
  },
  {
   "cell_type": "code",
   "execution_count": 7,
   "metadata": {},
   "outputs": [
    {
     "data": {
      "text/plain": [
       "['output_75.8300.csv',\n",
       " 'google_rembert_type_punct_prompt_submission_68.8709.csv',\n",
       " 'output_76.2207.csv',\n",
       " 'ensemble_76.4762.csv',\n",
       " 'output_72.1076.csv',\n",
       " 'output_75.6213.csv',\n",
       " 'output_72.1668.csv',\n",
       " 'unknown_xlm-roberta-large_v03_69.86.csv',\n",
       " 'output_75.0000.csv',\n",
       " 'hfl_cino-large-v2_typed_punct_marker_submission_68.1797.csv',\n",
       " 'output_76.2142.csv',\n",
       " 'output_76.3133.csv',\n",
       " 'output_72.8648.csv',\n",
       " 'output_73.5101.csv',\n",
       " 'output_73.1501.csv',\n",
       " 'klue_roberta-large_typed_punct_marker-5_concat-prompt_focal_submission_72.8704.csv',\n",
       " 'studio-ousia_mluke-large-lite_typed_punct_marker_submission_69.321.csv',\n",
       " 'sota_output_76.3133.csv',\n",
       " 'wooy0ng_korquad1-klue-roberta-large_typed_punct_marker_submission_71.7003.csv']"
      ]
     },
     "execution_count": 7,
     "metadata": {},
     "output_type": "execute_result"
    }
   ],
   "source": [
    "model_paths"
   ]
  },
  {
   "cell_type": "markdown",
   "metadata": {},
   "source": [
    "### 자동으로 랜덤 8개 조합해서 점수 반환, 가장 높은 점수의 조합을 최종적으로 반환"
   ]
  },
  {
   "cell_type": "code",
   "execution_count": 14,
   "metadata": {},
   "outputs": [],
   "source": [
    "# 파일 경로에서 숫자 부분 추출\n",
    "weights = [float(re.search(r'\\d+\\.\\d+', path).group()) for path in model_paths]\n",
    "# weights = [50., 80., 100., 80., 90., 50.]\n",
    "\n",
    "# submission 파일 로드\n",
    "dfs = [pd.read_csv(\"/data/ephemeral/level2-klue-nlp-06/outputs/\" + path) for path in model_paths]\n",
    "\n",
    "# probs 가중 평균\n",
    "probs = []\n",
    "for row in zip(*[df[\"probs\"].tolist() for df in dfs]):\n",
    "    temp = []\n",
    "    for col in zip(*[eval(p) for p in row]):\n",
    "        temp.append(sum(float(r*w/100) for r,w in zip(col,weights)))\n",
    "    probs.append(temp)\n",
    "\n",
    "pred_label = [n2l[i.index(max(i))] for i in probs]\n",
    "\n",
    "df = pd.DataFrame(columns=[\"id\", \"pred_label\", \"probs\"])\n",
    "df[\"id\"] = range(0, len(pred_label))\n",
    "df[\"pred_label\"] = pred_label\n",
    "df[\"probs\"] = probs\n",
    "\n"
   ]
  },
  {
   "cell_type": "code",
   "execution_count": 15,
   "metadata": {},
   "outputs": [],
   "source": [
    "import random\n",
    "import tqdm"
   ]
  },
  {
   "cell_type": "code",
   "execution_count": 16,
   "metadata": {},
   "outputs": [
    {
     "data": {
      "text/plain": [
       "['hfl_cino-large-v2_typed_punct_marker_submission_68.1797.csv',\n",
       " 'output_75.6213.csv',\n",
       " 'wooy0ng_korquad1-klue-roberta-large_typed_punct_marker_submission_71.7003.csv',\n",
       " 'unknown_xlm-roberta-large_v03_69.86.csv',\n",
       " 'ensemble_76.4762.csv',\n",
       " 'output_76.3133.csv',\n",
       " 'studio-ousia_mluke-large-lite_typed_punct_marker_submission_69.321.csv',\n",
       " 'sota_output_76.3133.csv']"
      ]
     },
     "execution_count": 16,
     "metadata": {},
     "output_type": "execute_result"
    }
   ],
   "source": [
    "model_paths = random.sample(os.listdir(\"./outputs\"), 8)\n",
    "model_paths"
   ]
  },
  {
   "cell_type": "code",
   "execution_count": 17,
   "metadata": {},
   "outputs": [
    {
     "data": {
      "text/plain": [
       "[68.1797, 75.6213, 71.7003, 69.86, 76.4762, 76.3133, 69.321, 76.3133]"
      ]
     },
     "execution_count": 17,
     "metadata": {},
     "output_type": "execute_result"
    }
   ],
   "source": [
    "[float(re.search(r'\\d+\\.\\d+', path).group()) for path in model_paths]"
   ]
  },
  {
   "cell_type": "code",
   "execution_count": 18,
   "metadata": {},
   "outputs": [
    {
     "data": {
      "text/plain": [
       "'[50.0, 80.0, 100.0, 80.0, 90.0, 50.0, 80.0, 90.0]'"
      ]
     },
     "execution_count": 18,
     "metadata": {},
     "output_type": "execute_result"
    }
   ],
   "source": [
    "str([50.0, 80.0, 100.0, 80.0, 90.0, 50.0, 80.0, 90.0])"
   ]
  },
  {
   "cell_type": "code",
   "execution_count": 19,
   "metadata": {},
   "outputs": [],
   "source": [
    "from tqdm import tqdm"
   ]
  },
  {
   "cell_type": "code",
   "execution_count": 20,
   "metadata": {},
   "outputs": [
    {
     "name": "stderr",
     "output_type": "stream",
     "text": [
      "  1%|          | 1/100 [00:06<10:44,  6.51s/it]"
     ]
    },
    {
     "name": "stdout",
     "output_type": "stream",
     "text": [
      "best_score : 75.67394094993583, best_model_paths : ['output_76.3133.csv', 'output_75.0000.csv', 'sota_output_76.3133.csv', 'studio-ousia_mluke-large-lite_typed_punct_marker_submission_69.321.csv', 'output_72.8648.csv', 'wooy0ng_korquad1-klue-roberta-large_typed_punct_marker_submission_71.7003.csv', 'output_73.1501.csv', 'google_rembert_type_punct_prompt_submission_68.8709.csv']\n"
     ]
    },
    {
     "name": "stderr",
     "output_type": "stream",
     "text": [
      "  2%|▏         | 2/100 [00:13<10:39,  6.52s/it]"
     ]
    },
    {
     "name": "stdout",
     "output_type": "stream",
     "text": [
      "best_score : 75.82452769772655, best_model_paths : ['ensemble_76.4762.csv', 'output_72.8648.csv', 'sota_output_76.3133.csv', 'hfl_cino-large-v2_typed_punct_marker_submission_68.1797.csv', 'output_76.3133.csv', 'output_72.1668.csv', 'output_73.1501.csv', 'output_75.6213.csv']\n"
     ]
    },
    {
     "name": "stderr",
     "output_type": "stream",
     "text": [
      "  9%|▉         | 9/100 [00:59<09:59,  6.58s/it]"
     ]
    },
    {
     "name": "stdout",
     "output_type": "stream",
     "text": [
      "best_score : 75.83678673892254, best_model_paths : ['studio-ousia_mluke-large-lite_typed_punct_marker_submission_69.321.csv', 'sota_output_76.3133.csv', 'output_76.3133.csv', 'output_72.1076.csv', 'wooy0ng_korquad1-klue-roberta-large_typed_punct_marker_submission_71.7003.csv', 'output_76.2207.csv', 'klue_roberta-large_typed_punct_marker-5_concat-prompt_focal_submission_72.8704.csv', 'output_76.2142.csv']\n"
     ]
    },
    {
     "name": "stderr",
     "output_type": "stream",
     "text": [
      " 18%|█▊        | 18/100 [01:58<08:58,  6.57s/it]"
     ]
    },
    {
     "name": "stdout",
     "output_type": "stream",
     "text": [
      "best_score : 75.84990378447723, best_model_paths : ['output_73.5101.csv', 'output_72.8648.csv', 'sota_output_76.3133.csv', 'output_76.3133.csv', 'output_75.8300.csv', 'output_72.1668.csv', 'unknown_xlm-roberta-large_v03_69.86.csv', 'output_75.6213.csv']\n"
     ]
    },
    {
     "name": "stderr",
     "output_type": "stream",
     "text": [
      " 31%|███       | 31/100 [03:23<07:33,  6.57s/it]"
     ]
    },
    {
     "name": "stdout",
     "output_type": "stream",
     "text": [
      "best_score : 75.91287636130686, best_model_paths : ['klue_roberta-large_typed_punct_marker-5_concat-prompt_focal_submission_72.8704.csv', 'studio-ousia_mluke-large-lite_typed_punct_marker_submission_69.321.csv', 'output_76.3133.csv', 'output_72.8648.csv', 'output_72.1668.csv', 'google_rembert_type_punct_prompt_submission_68.8709.csv', 'output_75.0000.csv', 'wooy0ng_korquad1-klue-roberta-large_typed_punct_marker_submission_71.7003.csv']\n"
     ]
    },
    {
     "name": "stderr",
     "output_type": "stream",
     "text": [
      " 40%|████      | 40/100 [04:22<06:34,  6.57s/it]"
     ]
    },
    {
     "name": "stdout",
     "output_type": "stream",
     "text": [
      "best_score : 75.99231754161332, best_model_paths : ['output_72.8648.csv', 'output_75.0000.csv', 'output_72.1076.csv', 'ensemble_76.4762.csv', 'output_76.3133.csv', 'studio-ousia_mluke-large-lite_typed_punct_marker_submission_69.321.csv', 'output_75.6213.csv', 'klue_roberta-large_typed_punct_marker-5_concat-prompt_focal_submission_72.8704.csv']\n"
     ]
    },
    {
     "name": "stderr",
     "output_type": "stream",
     "text": [
      " 49%|████▉     | 49/100 [05:21<05:33,  6.54s/it]"
     ]
    },
    {
     "name": "stdout",
     "output_type": "stream",
     "text": [
      "best_score : 76.02057216329153, best_model_paths : ['output_73.5101.csv', 'sota_output_76.3133.csv', 'unknown_xlm-roberta-large_v03_69.86.csv', 'output_76.2207.csv', 'output_75.0000.csv', 'output_72.1076.csv', 'output_72.1668.csv', 'output_72.8648.csv']\n"
     ]
    },
    {
     "name": "stderr",
     "output_type": "stream",
     "text": [
      " 74%|███████▍  | 74/100 [08:05<02:50,  6.55s/it]"
     ]
    },
    {
     "name": "stdout",
     "output_type": "stream",
     "text": [
      "best_score : 76.07303010890453, best_model_paths : ['output_76.3133.csv', 'sota_output_76.3133.csv', 'output_72.8648.csv', 'output_72.1668.csv', 'output_76.2207.csv', 'unknown_xlm-roberta-large_v03_69.86.csv', 'output_72.1076.csv', 'wooy0ng_korquad1-klue-roberta-large_typed_punct_marker_submission_71.7003.csv']\n"
     ]
    },
    {
     "name": "stderr",
     "output_type": "stream",
     "text": [
      "100%|██████████| 100/100 [10:55<00:00,  6.55s/it]\n"
     ]
    }
   ],
   "source": [
    "# for문을 돌면서 model_paths에서 자동으로 랜덤 8개 앙상블해서 점수 반환, 가장 높은 점수의 조합을 최종적으로 반환\n",
    "\n",
    "loop = 100\n",
    "best_score = 0\n",
    "\n",
    "for i in tqdm(range(loop)):\n",
    "\n",
    "    # 파일 경로에서 8개 랜덤 추출\n",
    "    model_paths = random.sample(os.listdir(\"./outputs\"), 8)\n",
    "\n",
    "\n",
    "    # 파일 경로에서 숫자 부분 추출\n",
    "    weights = [float(re.search(r'\\d+\\.\\d+', path).group()) for path in model_paths]\n",
    "    # weights = [50., 80., 100., 80., 90., 50.]\n",
    "\n",
    "    # submission 파일 로드\n",
    "    dfs = [pd.read_csv(\"/data/ephemeral/level2-klue-nlp-06/outputs/\" + path) for path in model_paths]\n",
    "\n",
    "    # probs 가중 평균\n",
    "    probs = []\n",
    "    for row in zip(*[df[\"probs\"].tolist() for df in dfs]):\n",
    "        temp = []\n",
    "        for col in zip(*[eval(p) for p in row]):\n",
    "            temp.append(sum(float(r*w/100) for r,w in zip(col,weights)))\n",
    "        probs.append(temp)\n",
    "\n",
    "    pred_label = [n2l[i.index(max(i))] for i in probs]\n",
    "\n",
    "    df = pd.DataFrame(columns=[\"id\", \"pred_label\", \"probs\"])\n",
    "    df[\"id\"] = range(0, len(pred_label))\n",
    "    df[\"pred_label\"] = pred_label\n",
    "    df[\"probs\"] = probs\n",
    "\n",
    "    f1, _ = gift_box(df)\n",
    "\n",
    "    if f1 > best_score:\n",
    "        best_score = f1\n",
    "        best_model_paths = model_paths\n",
    "        print(f\"best_score : {best_score}, best_model_paths : {best_model_paths}\")"
   ]
  },
  {
   "cell_type": "code",
   "execution_count": null,
   "metadata": {},
   "outputs": [],
   "source": []
  }
 ],
 "metadata": {
  "kernelspec": {
   "display_name": "nlp",
   "language": "python",
   "name": "python3"
  },
  "language_info": {
   "codemirror_mode": {
    "name": "ipython",
    "version": 3
   },
   "file_extension": ".py",
   "mimetype": "text/x-python",
   "name": "python",
   "nbconvert_exporter": "python",
   "pygments_lexer": "ipython3",
   "version": "3.10.13"
  }
 },
 "nbformat": 4,
 "nbformat_minor": 2
}
