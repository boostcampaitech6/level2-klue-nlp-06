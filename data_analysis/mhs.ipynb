{
 "cells": [
  {
   "cell_type": "code",
   "execution_count": 1,
   "metadata": {},
   "outputs": [],
   "source": [
    "import pandas as pd\n",
    "import os\n",
    "import matplotlib.pyplot as plt\n",
    "import re"
   ]
  },
  {
   "cell_type": "code",
   "execution_count": 61,
   "metadata": {},
   "outputs": [],
   "source": [
    "import os\n",
    "os.chdir('/data/ephemeral/project/level2-klue-nlp-06')"
   ]
  },
  {
   "cell_type": "code",
   "execution_count": 62,
   "metadata": {},
   "outputs": [],
   "source": [
    "train_data = pd.read_csv('./dataset/train.csv')\n",
    "test_data = pd.read_csv('./dataset/test_data.csv')"
   ]
  },
  {
   "attachments": {},
   "cell_type": "markdown",
   "metadata": {},
   "source": [
    "Data 설명"
   ]
  },
  {
   "cell_type": "code",
   "execution_count": 64,
   "metadata": {},
   "outputs": [
    {
     "data": {
      "text/html": [
       "<div>\n",
       "<style scoped>\n",
       "    .dataframe tbody tr th:only-of-type {\n",
       "        vertical-align: middle;\n",
       "    }\n",
       "\n",
       "    .dataframe tbody tr th {\n",
       "        vertical-align: top;\n",
       "    }\n",
       "\n",
       "    .dataframe thead th {\n",
       "        text-align: right;\n",
       "    }\n",
       "</style>\n",
       "<table border=\"1\" class=\"dataframe\">\n",
       "  <thead>\n",
       "    <tr style=\"text-align: right;\">\n",
       "      <th></th>\n",
       "      <th>Relation_Class</th>\n",
       "      <th>Description</th>\n",
       "      <th>Count</th>\n",
       "    </tr>\n",
       "  </thead>\n",
       "  <tbody>\n",
       "    <tr>\n",
       "      <th>0</th>\n",
       "      <td>no_relation</td>\n",
       "      <td>No relation in between (esubj, eobj)</td>\n",
       "      <td>9534</td>\n",
       "    </tr>\n",
       "    <tr>\n",
       "      <th>1</th>\n",
       "      <td>org:dissolved</td>\n",
       "      <td>The date when the specified organization was d...</td>\n",
       "      <td>66</td>\n",
       "    </tr>\n",
       "    <tr>\n",
       "      <th>2</th>\n",
       "      <td>org:founded</td>\n",
       "      <td>The date when the specified organization was f...</td>\n",
       "      <td>450</td>\n",
       "    </tr>\n",
       "    <tr>\n",
       "      <th>3</th>\n",
       "      <td>org:place_of_headquarters</td>\n",
       "      <td>The place which the headquarters of the specif...</td>\n",
       "      <td>1195</td>\n",
       "    </tr>\n",
       "    <tr>\n",
       "      <th>4</th>\n",
       "      <td>org:alternate_names</td>\n",
       "      <td>Alternative names called instead of the offici...</td>\n",
       "      <td>1320</td>\n",
       "    </tr>\n",
       "  </tbody>\n",
       "</table>\n",
       "</div>"
      ],
      "text/plain": [
       "              Relation_Class  \\\n",
       "0                no_relation   \n",
       "1              org:dissolved   \n",
       "2                org:founded   \n",
       "3  org:place_of_headquarters   \n",
       "4        org:alternate_names   \n",
       "\n",
       "                                         Description  Count  \n",
       "0               No relation in between (esubj, eobj)   9534  \n",
       "1  The date when the specified organization was d...     66  \n",
       "2  The date when the specified organization was f...    450  \n",
       "3  The place which the headquarters of the specif...   1195  \n",
       "4  Alternative names called instead of the offici...   1320  "
      ]
     },
     "execution_count": 64,
     "metadata": {},
     "output_type": "execute_result"
    }
   ],
   "source": [
    "label_count = train_data['label'].value_counts().sort_index()\n",
    "txt_file_path = './data_analysis/data_description.txt'\n",
    "\n",
    "# 파일 읽기\n",
    "with open(txt_file_path, 'r', encoding='utf-8') as file:\n",
    "    lines = file.readlines()\n",
    "\n",
    "# 데이터 구성\n",
    "data_description = {'Relation_Class': [], 'Description': [], 'Count': []}\n",
    "\n",
    "for line in lines:\n",
    "    line = line.strip()\n",
    "    if line:\n",
    "        relation_class, description = map(str.strip, line.split('\\t'))\n",
    "        data_description['Relation_Class'].append(relation_class)\n",
    "        data_description['Description'].append(description)\n",
    "        data_description['Count'].append(label_count[relation_class])\n",
    "\n",
    "# DataFrame 생성\n",
    "data_description = pd.DataFrame(data_description)\n",
    "data_description.head(5)"
   ]
  },
  {
   "attachments": {},
   "cell_type": "markdown",
   "metadata": {},
   "source": [
    "Label의 특성을 파악하기 쉽게, 다음의 형태로 출력\n",
    "                         \n",
    "    Label (개수) : 설명\n",
    "    {subject_entity : word_entity} \n",
    "\n",
    "- Example\n",
    "    org:member_of (1866)  :  Organizations to which the specified organization belongs\n",
    "    {'광주FC': '한국프로축구연맹', '제2총군': '일본 제국 육군', '맨체스터 시티 FC': '프리미어리그', '세비야': '스페인', '대원방송': '대원미디어'}"
   ]
  },
  {
   "cell_type": "code",
   "execution_count": 4,
   "metadata": {},
   "outputs": [
    {
     "name": "stdout",
     "output_type": "stream",
     "text": [
      "no_relation (9534)  :  No relation in between (esubj, eobj)\n",
      "{'비틀즈': '조지 해리슨', '민주평화당': '대안신당', '요미우리 자이언츠': '1967', 'AC 밀란': '1989', '미켈란젤로': '르네상스'}\n",
      "\n",
      "org:member_of (1866)  :  Organizations to which the specified organization belongs\n",
      "{'광주FC': '한국프로축구연맹', '제2총군': '일본 제국 육군', '맨체스터 시티 FC': '프리미어리그', '세비야': '스페인', '대원방송': '대원미디어'}\n",
      "\n",
      "org:top_members/employees (4284)  :  The representative(s) or members of the specified organization\n",
      "{'아성다이소': '박정부', '필라델피아 필리스': '박찬호', '곡성군': '유근기', 'HB엔터테인먼트': '문보미', '공무원연금공단': '정남준'}\n",
      "\n",
      "org:alternate_names (1320)  :  Alternative names called instead of the official name to refer to the specified organization\n",
      "{'북대서양 조약 기구': 'NATO', '유럽 축구 연맹': 'UEFA', '미국의 소리': 'Voice of America', 'Facebook': '페이스북', 'LG전자': '금성사'}\n",
      "\n",
      "per:date_of_birth (1130)  :  The date when the specified person was born\n",
      "{'박용오': '1937년 4월 29일', '제임스 클라크 로스': '1800년 ~ 1862년', '김동성': '1980년 2월 9일', '한상길': '1987년 9월 5일', '안효섭': '1995년 4월 17일'}\n",
      "\n",
      "org:place_of_headquarters (1195)  :  The place which the headquarters of the specified organization are located in\n",
      "{'중화민국': '타이베이', '강진군': '전라남도', '조선중앙통신사': '조선민주주의인민공화국', '글래스고': '스코틀랜드', '에든버러 대학교': '스코틀랜드 에든버러'}\n",
      "\n",
      "per:employee_of (3573)  :  The organization where the specified person works\n",
      "{'안규백': '더불어민주당', '노영민': '더불어민주당', '손병희': '천도교', '마누엘 산치스': '레알 마드리드', '이던 앨런': '그린 마운틴 보이스'}\n",
      "\n",
      "per:origin (1234)  :  The origins or the nationality of the specified person\n",
      "{'하비에르 파스토레': '아르헨티나', '유곤일': '청나라', '민 리': '캐나다', '소녀시대': '제시카', '리사 디 배나': '오스트레일리아'}\n",
      "\n",
      "per:title (2103)  :  Official or unofficial names that represent the occupational position of the specified person\n",
      "{'빌리 아일리시': '싱어송라이터', '박병호': '1루수', '박애리': '국악인', '드보르작': '작곡가', '김경언': '외야수'}\n",
      "\n",
      "org:members (420)  :  Organizations which belong to the specified organization\n",
      "{'뉴질랜드': '오클랜드', '반민특위': '특별조사위원회', '러시아': '모스크바', '경상남도': '창원시', '현대차 그룹': '현대모비스'}\n",
      "\n",
      "per:schools_attended (82)  :  A school where the specified person attended\n",
      "{'문성민': '경기대', '김기표': '경성대', '쟝쩐위': '중앙희극학원', '오선우': '인하대', '장효조': '한양대'}\n",
      "\n",
      "per:colleagues (534)  :  People who work together with the specified person\n",
      "{'김종필': '박정희', '아나킨 스카이워커': '콰이곤 진', 'B.B. 킹': '에릭 클랩튼', '정현백': '문재인', '베네딕토 16세': '요한 바오로 2세'}\n",
      "\n",
      "per:alternate_names (1001)  :  Alternative names called instead of the official name to refer to the specified person\n",
      "{'스티브 바라캇': 'Steve Barakatt', '빌리 파이퍼': '로즈 타일러', '강은탁': '신슬기', '랩몬스터': '김남준', '김우빈': '김현중'}\n",
      "\n",
      "per:spouse (795)  :  The spouse(s) of the specified person\n",
      "{'박흥식': '한인하', '노소영': '최태원', '채리나': '박용근', '강경준': '장신영', '문재인': '김정숙'}\n",
      "\n",
      "org:founded_by (155)  :  The person or organization that founded the specified organization\n",
      "{'흑표당': '휴이 뉴튼', 'KFC': '커널 샌더스', '국민볼셰비키당': '에두아르드 리모노프', '오뚜기': '함태호', '마이크로 센터': '빌 베인'}\n",
      "\n",
      "org:political/religious_affiliation (98)  :  Political/religious groups which the specified organization is affiliated in\n",
      "{'몽골 인민 공화국': '공산주의', '교황령': '가톨릭', '폴란드 인민 공화국': '공산주의', '노바야 가제타': '자유주의'}\n",
      "\n",
      "per:children (304)  :  The children of the specified person\n",
      "{'카를 5세': '펠리페', '광해군': '폐세자 이질', '에드워드 7세': '루이즈', '다리우스 1세': '크세르크세스 1세', '숙의 박씨': '영온옹주'}\n",
      "\n",
      "org:founded (450)  :  The date when the specified organization was founded\n",
      "{'롯데 자이언츠': '1984년', '방송위원회': '2008년 2월 29일', '광주과학고등학교': '1984년', '오번 대학교': '1856년', '툰-운트 스포트버라인 바이어 04 레버쿠젠': '1904년 7월 1일'}\n",
      "\n",
      "org:number_of_employees/members (48)  :  The total number of members that are affiliated in the specified organization\n",
      "{'독일 연방군': '49만 5,000명', '군사고문단': '500명', '순천시': '281534명', '소녀시대': '9명', '광주 서구': '18개'}\n",
      "\n",
      "per:place_of_birth (166)  :  The place where the specified person was born\n",
      "{'백한성': '조선 충청도 공주', '코치시 졸탄': '헝가리', '윤호중': '경기도', '토미 메이컴': '북아일랜드 카운티 아마', '빌리 오르반': '카이저슬라우테른'}\n",
      "\n",
      "org:dissolved (66)  :  The date when the specified organization was dissolved\n",
      "{'대성여자중학교': '1959년', '제주교육대학교': '2008년 3월 1일', '진나라': '기원전 206년', '충남 일화 천마': '2012년', '로마제국': '395년'}\n",
      "\n",
      "per:parents (520)  :  The parents of the specified person\n",
      "{'다카쿠라 천황': '고시라카와 천황', '김대중': '어머니 장수금', '신문왕': '문무왕', '이스마일 2세': '타흐마스프 1세', '송시열': '송갑조'}\n",
      "\n",
      "per:religion (96)  :  The religion in which the specified person believes\n",
      "{'라인홀트 니부어': '개신교', '사무드라굽타': '힌두교', '손병희': '천도교', '구카이': '진언종', '전덕기': '감리교'}\n",
      "\n",
      "per:date_of_death (418)  :  The date when the specified person died\n",
      "{'김경징': '1637년 2월 22일', '박흥식': '1994년 5월 10일', '설공검': '1302년', '육영수': '1974년 8월 15일', '요제프 1세': '1711년 4월 17일'}\n",
      "\n",
      "per:place_of_residence (193)  :  The place where the specified person lives\n",
      "{'문재인': '대한민국', '무함마드': '메디나', '유한굉': '중국 당나라', '이이 나오스케': '히코네 번', '김성주': '대한민국'}\n",
      "\n",
      "per:other_family (190)  :  Family members of the specified person other than parents, children, siblings, and spouse(s)\n",
      "{'윌리엄 4세': '빅토리아', '콘라트 2세': '기젤라', '진덕여왕': '선덕여왕', '신숙주': '고령군', '안 드 브르타뉴': '프랑수아 2세'}\n",
      "\n",
      "org:product (380)  :  Products or merchandise produced by the specified organization\n",
      "{'삼부토건': '삼부르네상스', '삼성전자': 'LSI', '메르세데스 벤츠': '자동차', '롤링 스톤스': 'Aftermath'}\n",
      "\n",
      "per:siblings (136)  :  The brothers and sisters of the specified person\n",
      "{'하후돈': '하후연', '이사벨 1세': '엔리케 4세', '김여정': '김정은', '성삼문': '성삼빙, 성삼고, 성삼성', '찰스 2세': '헨리에타'}\n",
      "\n",
      "per:product (139)  :  Products or artworks produced by the specified person\n",
      "{'마이클 잭슨': 'Thriller', '스티브 러셀': '스페이스워!', '가미오 요코': '꽃보다 남자', '후지코 F. 후지오': '도라에몽', '이문열': '우리들의 일그러진 영웅'}\n",
      "\n",
      "per:place_of_death (40)  :  the place where the specified person died\n",
      "{'최진영': '서울특별시 강남구', '막시밀리아노 1세': '멕시코 케레타로', '우범선': '일본 히로시마현 구레', '마리 드 메디시스': '쾰른', '김립': '상하이'}\n",
      "\n"
     ]
    }
   ],
   "source": [
    "label_list = train_data['label'].unique()\n",
    "\n",
    "for label in label_list:\n",
    "    print(label + ' (' + str(data_description[data_description['Relation_Class']==label]['Count'].iloc[0]) + ') ' + ' :  ' + data_description[data_description['Relation_Class']==label]['Description'].iloc[0])\n",
    "    \n",
    "    df = train_data[train_data['label'] == label].head()\n",
    "    \n",
    "    output = {}\n",
    "    for subject_entity, object_entity in zip(df['subject_entity'], df['object_entity']):\n",
    "        result = re.search(r\"'word':\\s*'([^']*)'\", subject_entity)\n",
    "        subject_word = result.group(1)\n",
    "        \n",
    "        result = re.search(r\"'word':\\s*'([^']*)'\", object_entity)\n",
    "        object_word = result.group(1)\n",
    "        \n",
    "        output[subject_word] = object_word\n",
    "    print(output)\n",
    "    print()\n"
   ]
  },
  {
   "cell_type": "code",
   "execution_count": 9,
   "metadata": {},
   "outputs": [
    {
     "name": "stdout",
     "output_type": "stream",
     "text": [
      "no_relation (9534)  :  No relation in between (esubj, eobj)\n",
      "\n",
      "[2]{요미우리 자이언츠 : 1967}\n",
      "1967년 프로 야구 드래프트 1순위로 요미우리 자이언츠에게 입단하면서 등번호는 8번으로 배정되었다.\n",
      "\n",
      "[3]{AC 밀란 : 1989}\n",
      "그에 따라 나폴리와 계약을 연장한 마라도나는 1989년 팀을 UEFA컵 정상으로 인도했으며 이듬해에는 유럽 챔피언 AC 밀란을 상대로 승리를 거두고 다시 한 번 세리에A에서 정상에 등극했다.\n",
      "\n",
      "[4]{미켈란젤로 : 르네상스}\n",
      "조토 디 본도네, 마사초, 피에로 델라 프란체스카, 도메니코 기를란다요, 페루지노, 미켈란젤로, 라파엘로, 보티첼리, 레오나르도 다빈치, 티치아노 등으로 대표되는 이탈리아 르네상스 회화는 당대와 그 이후의 시기 유럽 전체에 영향을 주었다.\n",
      "\n",
      "[5]{이정미 : 정의당}\n",
      "이정미 대표도 이날 기자회견에 앞서 한 라디오 방송에 출연 \"정개특위를 한국당에 내주는 건 어떤 일이 있어도 안 된다\"며 \"지금 한국당을 어르고 구슬리는 게 민주당에 득이 된다고 생각할지 모르겠지만 정부 여당의 개혁 정책에 가장 힘을 실어줬던 정의당과 야3당의 개혁 공조가 어그러지는 상황이 될 것\"이라고 지적했다.\n",
      "\n",
      "[6]{한국수자원공사 : 환경부}\n",
      "이번 포럼은 제주개발공사와 유네스코 아시아-태평양 본부, 한국지질자원연구원이 공동 주최하고 유네스코 파리본부, 제주특자치도, 환경부, 한국수자원공사, 한국건설기술연구원 등이 후원한다.\n",
      "\n"
     ]
    }
   ],
   "source": [
    "def show_particular_label(label, start, end):\n",
    "    print(label + ' (' + str(data_description[data_description['Relation_Class']==label]['Count'].iloc[0]) + ') ' + ' :  ' + data_description[data_description['Relation_Class']==label]['Description'].iloc[0])\n",
    "    print()\n",
    "    df = train_data[train_data['label'] == label].iloc[start:end+1,:]\n",
    "        \n",
    "    for i, (subject_entity, object_entity) in enumerate(zip(df['subject_entity'], df['object_entity'])):\n",
    "        result = re.search(r\"'word':\\s*'([^']*)'\", subject_entity)\n",
    "        subject_word = result.group(1)\n",
    "        \n",
    "        result = re.search(r\"'word':\\s*'([^']*)'\", object_entity)\n",
    "        object_word = result.group(1)\n",
    "        \n",
    "        print('['+str(start+i)+']'+'{' + '{} : {}'.format(subject_word, object_word) + '}')\n",
    "        print(df.iloc[i]['sentence'])\n",
    "        print()\n",
    "    \n",
    "\n",
    "show_particular_label('no_relation',2,6)"
   ]
  },
  {
   "cell_type": "code",
   "execution_count": 31,
   "metadata": {},
   "outputs": [
    {
     "name": "stdout",
     "output_type": "stream",
     "text": [
      "   id  \\\n",
      "0   0   \n",
      "1   1   \n",
      "2   2   \n",
      "3   3   \n",
      "4   4   \n",
      "\n",
      "                                                                                              sentence  \\\n",
      "0                                          〈Something〉는 조지 해리슨이 쓰고 비틀즈가 1969년 앨범 《Abbey Road》에 담은 노래다.   \n",
      "1                                               호남이 기반인 바른미래당·대안신당·민주평화당이 우여곡절 끝에 합당해 민생당(가칭)으로 재탄생한다.   \n",
      "2  K리그2에서 성적 1위를 달리고 있는 광주FC는 지난 26일 한국프로축구연맹으로부터 관중 유치 성과와 마케팅 성과를 인정받아 ‘풀 스타디움상’과 ‘플러스 스타디움상’을 수상했다.   \n",
      "3                       균일가 생활용품점 (주)아성다이소(대표 박정부)는 코로나19 바이러스로 어려움을 겪고 있는 대구광역시에 행복박스를 전달했다고 10일 밝혔다.   \n",
      "4                                             1967년 프로 야구 드래프트 1순위로 요미우리 자이언츠에게 입단하면서 등번호는 8번으로 배정되었다.   \n",
      "\n",
      "                                                         subject_entity  \\\n",
      "0        {'word': '비틀즈', 'start_idx': 24, 'end_idx': 26, 'type': 'ORG'}   \n",
      "1      {'word': '민주평화당', 'start_idx': 19, 'end_idx': 23, 'type': 'ORG'}   \n",
      "2       {'word': '광주FC', 'start_idx': 21, 'end_idx': 24, 'type': 'ORG'}   \n",
      "3      {'word': '아성다이소', 'start_idx': 13, 'end_idx': 17, 'type': 'ORG'}   \n",
      "4  {'word': '요미우리 자이언츠', 'start_idx': 22, 'end_idx': 30, 'type': 'ORG'}   \n",
      "\n",
      "                                                         object_entity  \\\n",
      "0    {'word': '조지 해리슨', 'start_idx': 13, 'end_idx': 18, 'type': 'PER'}   \n",
      "1      {'word': '대안신당', 'start_idx': 14, 'end_idx': 17, 'type': 'ORG'}   \n",
      "2  {'word': '한국프로축구연맹', 'start_idx': 34, 'end_idx': 41, 'type': 'ORG'}   \n",
      "3       {'word': '박정부', 'start_idx': 22, 'end_idx': 24, 'type': 'PER'}   \n",
      "4        {'word': '1967', 'start_idx': 0, 'end_idx': 3, 'type': 'DAT'}   \n",
      "\n",
      "                       label     source  \n",
      "0                no_relation  wikipedia  \n",
      "1                no_relation   wikitree  \n",
      "2              org:member_of   wikitree  \n",
      "3  org:top_members/employees   wikitree  \n",
      "4                no_relation  wikipedia  \n"
     ]
    }
   ],
   "source": [
    "# 출력 옵션 변경: 최대 행 및 열 표시 설정\n",
    "pd.set_option(\"display.max_rows\", None)  # 모든 행을 표시하려면 None을 사용할 수 있습니다.\n",
    "pd.set_option(\"display.max_columns\", None)  # 모든 열을 표시하려면 None을 사용할 수 있습니다.\n",
    "pd.set_option(\"display.max_colwidth\", None)\n",
    "\n",
    "print(train_data.head())\n",
    "\n",
    "pd.reset_option(\"display.max_rows\")\n",
    "pd.reset_option(\"display.max_columns\")\n",
    "pd.reset_option(\"display.max_colwidth\")"
   ]
  },
  {
   "cell_type": "code",
   "execution_count": 74,
   "metadata": {},
   "outputs": [
    {
     "data": {
      "text/plain": [
       "0          {'word': '비틀즈', 'start_idx': 24, 'end_idx': 26, 'type': 'ORG'}\n",
       "1        {'word': '민주평화당', 'start_idx': 19, 'end_idx': 23, 'type': 'ORG'}\n",
       "2         {'word': '광주FC', 'start_idx': 21, 'end_idx': 24, 'type': 'ORG'}\n",
       "3        {'word': '아성다이소', 'start_idx': 13, 'end_idx': 17, 'type': 'ORG'}\n",
       "4    {'word': '요미우리 자이언츠', 'start_idx': 22, 'end_idx': 30, 'type': 'ORG'}\n",
       "Name: subject_entity, dtype: object"
      ]
     },
     "execution_count": 74,
     "metadata": {},
     "output_type": "execute_result"
    }
   ],
   "source": [
    "train_data['subject_entity'].head()"
   ]
  },
  {
   "cell_type": "code",
   "execution_count": 32,
   "metadata": {},
   "outputs": [
    {
     "name": "stdout",
     "output_type": "stream",
     "text": [
      "Index(['id', 'sentence', 'subject_entity', 'object_entity', 'label', 'source'], dtype='object')\n"
     ]
    }
   ],
   "source": [
    "print(train_data.columns)"
   ]
  },
  {
   "cell_type": "code",
   "execution_count": 43,
   "metadata": {},
   "outputs": [
    {
     "name": "stdout",
     "output_type": "stream",
     "text": [
      "30\n",
      "no_relation                            9534\n",
      "org:alternate_names                    1320\n",
      "org:dissolved                            66\n",
      "org:founded                             450\n",
      "org:founded_by                          155\n",
      "org:member_of                          1866\n",
      "org:members                             420\n",
      "org:number_of_employees/members          48\n",
      "org:place_of_headquarters              1195\n",
      "org:political/religious_affiliation      98\n",
      "org:product                             380\n",
      "org:top_members/employees              4284\n",
      "per:alternate_names                    1001\n",
      "per:children                            304\n",
      "per:colleagues                          534\n",
      "per:date_of_birth                      1130\n",
      "per:date_of_death                       418\n",
      "per:employee_of                        3573\n",
      "per:origin                             1234\n",
      "per:other_family                        190\n",
      "per:parents                             520\n",
      "per:place_of_birth                      166\n",
      "per:place_of_death                       40\n",
      "per:place_of_residence                  193\n",
      "per:product                             139\n",
      "per:religion                             96\n",
      "per:schools_attended                     82\n",
      "per:siblings                            136\n",
      "per:spouse                              795\n",
      "per:title                              2103\n",
      "Name: label, dtype: int64\n"
     ]
    }
   ],
   "source": [
    "print(len(train_data['label'].value_counts().sort_index()))\n",
    "print((train_data['label'].value_counts().sort_index()))"
   ]
  },
  {
   "attachments": {},
   "cell_type": "markdown",
   "metadata": {},
   "source": [
    "전체 라벨의 분포"
   ]
  },
  {
   "cell_type": "code",
   "execution_count": 28,
   "metadata": {},
   "outputs": [
    {
     "data": {
      "image/png": "[encoded data removed]",
      "text/plain": [
       "<Figure size 640x480 with 1 Axes>"
      ]
     },
     "metadata": {},
     "output_type": "display_data"
    }
   ],
   "source": [
    "train_data['label'].value_counts().sort_index().plot(kind='barh')\n",
    "\n",
    "# Annotate bar values with adjusted fontsize\n",
    "for i, value in enumerate(train_data['label'].value_counts().sort_index()):\n",
    "    plt.text(value + 0.1, i, str(value), ha='left', va='center', fontsize=8)\n",
    "\n",
    "\n",
    "plt.axvline(x=2000, color='red', linestyle='--')\n",
    "\n",
    "plt.title('Label Distribution')\n",
    "plt.xlabel('Count')\n",
    "plt.ylabel('Label')\n",
    "\n",
    "plt.xticks(fontsize=10)\n",
    "plt.yticks(fontsize=7)\n",
    "\n",
    "plt.show()"
   ]
  },
  {
   "attachments": {},
   "cell_type": "markdown",
   "metadata": {},
   "source": [
    "2000개 이상인 label을 제외한 label 분포"
   ]
  },
  {
   "cell_type": "code",
   "execution_count": 12,
   "metadata": {},
   "outputs": [
    {
     "name": "stdout",
     "output_type": "stream",
     "text": [
      "값이 2000 이상인 label 목록: ['no_relation', 'org:top_members/employees', 'per:employee_of', 'per:title']\n"
     ]
    }
   ],
   "source": [
    "label_counts = train_data['label'].value_counts().sort_index()\n",
    "\n",
    "# 값이 2000 이상인 label 목록 추출\n",
    "labels_over_2000 = label_counts[label_counts >= 2000].index.tolist()\n",
    "\n",
    "print(\"값이 2000 이상인 label 목록:\", labels_over_2000)"
   ]
  },
  {
   "cell_type": "code",
   "execution_count": 24,
   "metadata": {},
   "outputs": [
    {
     "data": {
      "image/png": "[encoded data removed]",
      "text/plain": [
       "<Figure size 640x480 with 1 Axes>"
      ]
     },
     "metadata": {},
     "output_type": "display_data"
    }
   ],
   "source": [
    "labels_to_exclude = labels_over_2000\n",
    "\n",
    "plt.barh(train_data[~train_data['label'].isin(labels_to_exclude)]['label'].value_counts().sort_index().index,\n",
    "         train_data[~train_data['label'].isin(labels_to_exclude)]['label'].value_counts().sort_index().values,\n",
    "         height=0.8)\n",
    "\n",
    "for i, value in enumerate(train_data[~train_data['label'].isin(labels_to_exclude)]['label'].value_counts().sort_index()):\n",
    "    plt.text(value + 0.1, i, str(value), ha='left', va='center', fontsize=6)\n",
    "\n",
    "plt.axvline(x=100, color='red', linestyle='--')\n",
    "\n",
    "plt.title('Label Distribution')\n",
    "plt.xlabel('Count')\n",
    "plt.ylabel('Label')\n",
    "\n",
    "plt.xticks(fontsize=10)\n",
    "plt.yticks(fontsize=7)\n",
    "\n",
    "plt.show()"
   ]
  },
  {
   "attachments": {},
   "cell_type": "markdown",
   "metadata": {},
   "source": [
    "100개 이하인 label"
   ]
  },
  {
   "cell_type": "code",
   "execution_count": 5,
   "metadata": {},
   "outputs": [
    {
     "name": "stdout",
     "output_type": "stream",
     "text": [
      "값이 100 이하인 label 목록: ['org:dissolved', 'org:number_of_employees/members', 'org:political/religious_affiliation', 'per:place_of_death', 'per:religion', 'per:schools_attended']\n"
     ]
    }
   ],
   "source": [
    "label_counts = train_data['label'].value_counts().sort_index()\n",
    "\n",
    "labels_under_100 = label_counts[label_counts <= 100].index.tolist()\n",
    "\n",
    "print(\"값이 100 이하인 label 목록:\", labels_under_100)"
   ]
  },
  {
   "cell_type": "code",
   "execution_count": 7,
   "metadata": {},
   "outputs": [
    {
     "name": "stdout",
     "output_type": "stream",
     "text": [
      "org:dissolved (66)  :  The date when the specified organization was dissolved\n",
      "{'대성여자중학교': '1959년', '제주교육대학교': '2008년 3월 1일', '진나라': '기원전 206년', '충남 일화 천마': '2012년', '로마제국': '395년'}\n",
      "\n",
      "org:number_of_employees/members (48)  :  The total number of members that are affiliated in the specified organization\n",
      "{'독일 연방군': '49만 5,000명', '군사고문단': '500명', '순천시': '281534명', '소녀시대': '9명', '광주 서구': '18개'}\n",
      "\n",
      "org:political/religious_affiliation (98)  :  Political/religious groups which the specified organization is affiliated in\n",
      "{'몽골 인민 공화국': '공산주의', '교황령': '가톨릭', '폴란드 인민 공화국': '공산주의', '노바야 가제타': '자유주의'}\n",
      "\n",
      "per:place_of_death (40)  :  the place where the specified person died\n",
      "{'최진영': '서울특별시 강남구', '막시밀리아노 1세': '멕시코 케레타로', '우범선': '일본 히로시마현 구레', '마리 드 메디시스': '쾰른', '김립': '상하이'}\n",
      "\n",
      "per:religion (96)  :  The religion in which the specified person believes\n",
      "{'라인홀트 니부어': '개신교', '사무드라굽타': '힌두교', '손병희': '천도교', '구카이': '진언종', '전덕기': '감리교'}\n",
      "\n",
      "per:schools_attended (82)  :  A school where the specified person attended\n",
      "{'문성민': '경기대', '김기표': '경성대', '쟝쩐위': '중앙희극학원', '오선우': '인하대', '장효조': '한양대'}\n",
      "\n"
     ]
    }
   ],
   "source": [
    "# 출력 옵션 변경: 최대 행 및 열 표시 설정\n",
    "pd.set_option(\"display.max_rows\", None)  # 모든 행을 표시하려면 None을 사용할 수 있습니다.\n",
    "pd.set_option(\"display.max_columns\", None)  # 모든 열을 표시하려면 None을 사용할 수 있습니다.\n",
    "pd.set_option(\"display.max_colwidth\", None)\n",
    "for label in labels_under_100:\n",
    "    print(label + ' (' + str(data_description[data_description['Relation_Class']==label]['Count'].iloc[0]) + ') ' + ' :  ' + data_description[data_description['Relation_Class']==label]['Description'].iloc[0])\n",
    "    \n",
    "    df = train_data[train_data['label'] == label].head()\n",
    "    \n",
    "    output = {}\n",
    "    for subject_entity, object_entity in zip(df['subject_entity'], df['object_entity']):\n",
    "        result = re.search(r\"'word':\\s*'([^']*)'\", subject_entity)\n",
    "        subject_word = result.group(1)\n",
    "        \n",
    "        result = re.search(r\"'word':\\s*'([^']*)'\", object_entity)\n",
    "        object_word = result.group(1)\n",
    "        \n",
    "        output[subject_word] = object_word\n",
    "    print(output)\n",
    "    print()\n",
    "    \n",
    "    \n",
    "\n",
    "pd.reset_option(\"display.max_rows\")\n",
    "pd.reset_option(\"display.max_columns\")\n",
    "pd.reset_option(\"display.max_colwidth\")"
   ]
  },
  {
   "cell_type": "code",
   "execution_count": 10,
   "metadata": {},
   "outputs": [
    {
     "name": "stdout",
     "output_type": "stream",
     "text": [
      "org:dissolved (66)  :  The date when the specified organization was dissolved\n",
      "\n",
      "[0]{대성여자중학교 : 1959년}\n",
      "1959년 한국 전쟁으로 폐교된 대성여자중학교를 부활시키고 1960년에는 대성여자고등학교를 세웠다.\n",
      "\n",
      "[1]{제주교육대학교 : 2008년 3월 1일}\n",
      "2008년 3월 1일 제주교육대학교가 제주대학교에 통폐합, 제주대학교 교육대학으로 개편되 제주대학교 사라캠퍼스로 운영되고있다.\n",
      "\n",
      "[2]{진나라 : 기원전 206년}\n",
      "전영은 초나라를 돕지 않고 진나라를 멸하는 데에도 함께하지 않았으므로, 기원전 206년에 진나라가 망하고 항우가 실시한 제후 봉건에서 전시는 제나라 왕에서 밀려나 교동나라 왕으로 봉해졌다.\n",
      "\n",
      "[3]{충남 일화 천마 : 2012년}\n",
      "또한 2012년 해체된 충남 일화 천마에서 강유미를 드래프트로 뽑아 전력을 강화했다.\n",
      "\n",
      "[4]{로마제국 : 395년}\n",
      "50여년간의 사두 정치 체계이후, 330년 콘스탄티누스 1세 황제때 현 이스탄불 위치에 있는 비잔티움을 콘스탄티노폴리스로 명명하고 천도하였고, 395년에 로마제국은 테오도시우스 1세 황제 사후 동로마제국과 서로마제국으로 갈라지게 된다.\n",
      "\n",
      "[5]{이스트로 : 2010년 10월}\n",
      "2010년 10월 12일에 이스트로 해체가 공식 발표되었고, 13일 전 이스트로 선수단 공개 드래프트를 통해 위메이드 폭스에 영입되었다.\n",
      "\n",
      "org:number_of_employees/members (48)  :  The total number of members that are affiliated in the specified organization\n",
      "\n",
      "[0]{독일 연방군 : 49만 5,000명}\n",
      "냉전 동안 독일 연방군은 NATO의 서유럽 방위의 주력군이 되었으며 전군을 통틀어 49만 5,000명의 병력과 17만명의 군무원을 거느리고 있었다.\n",
      "\n",
      "[1]{군사고문단 : 500명}\n",
      "결국, 대한민국 정부의 반대에도 불구하고 주한미군은 약 500명의 군사고문단만 남기고 마지막 남아 있던 부대가 1949년 6월 29일 철수하였다.\n",
      "\n",
      "[2]{순천시 : 281534명}\n",
      "한편 순천시는 아이들 부터 노년까지 세대 맞춤형 인구정책 추진으로 인구가 꾸준히 증가해, 10월말 기준으로 지난해 대비 2145명 증가한 281534명으로 전남 제1의 도시 달성에 한발 더 가까이 다가섰다.\n",
      "\n",
      "[3]{소녀시대 : 9명}\n",
      "2010년에 전 소녀시대 멤버였던 제시카가 당시 멤버 9명 중 미니홈피나 블로그 등을 하는 사람이 한 명도 없던 중에 10월 13일, 제시카가 처음으로 자신의 트위터 계정을 개설하였다.\n",
      "\n",
      "[4]{광주 서구 : 18개}\n",
      "한편, 광주 서구는 ‘주민주도의 좋은 마을만들기’사업을 통해 18개동에서 100여개의 마을공동체가 왕성한 활동을 펼치고 있다.\n",
      "\n",
      "[5]{국가두마 : 450석}\n",
      "2011년 러시아 의회 선거(Парламентские выборы в России 2011)는 2011년 450석의 국가두마 의회 의원들을 뽑기 위한 총선거이다.\n",
      "\n",
      "org:political/religious_affiliation (98)  :  Political/religious groups which the specified organization is affiliated in\n",
      "\n",
      "[0]{몽골 인민 공화국 : 공화제}\n",
      "1924년 11월 26일에는 정부 형태를 군주제에서 인민 공화제로 고쳐 국호를 몽골 인민 공화국으로 정하고, 세계에서 2번째로 공산주의 국가가 되었다.\n",
      "\n",
      "[1]{교황령 : 가톨릭}\n",
      "교황령의 통치자인 교황은 가톨릭교회의 종교 지도자이기도 하였다.\n",
      "\n",
      "[2]{몽골 인민 공화국 : 공산주의}\n",
      "캄푸치아 인민공화국, 에티오피아 인민 민주주의공화국, 남예멘이 공산주의를 버렸고, 몽골 인민 공화국에서는 혁명이 발생해 공산주의의 일당 체제가 붕괴되었다.\n",
      "\n",
      "[3]{폴란드 인민 공화국 : 공산주의}\n",
      "폴란드에서 교복이라는 개념은 20세기 초반까지는 존재하지 않았지만, 폴란드에 공산주의 정권인 폴란드 인민 공화국이 수립되고 나서 교복을 착용했다가 1980년대 경제적인 악화로 인해 많은 학교에서 교복을 취소하고 말았다.\n",
      "\n",
      "[4]{노바야 가제타 : 자유주의}\n",
      "레베데프는 과거 소비에트 연방의 대통령이었던 고르바초프와도 함께 일하고 있으며, 자유주의 성향의 신문인 노바야 가제타의 주식 49%를 소유하고 있다.\n",
      "\n",
      "[5]{민주당 : 자유주의}\n",
      "영국식 입헌군주제와 경제적 자유주의를 주창하던 진보당과, 개혁적 자유주의를 주창하던 입헌민주당에 반대하는 전형적인 보수 정당으로 기능하였다.\n",
      "\n",
      "per:place_of_death (40)  :  the place where the specified person died\n",
      "\n",
      "[0]{최진영 : 서울특별시 강남구}\n",
      "2010년 3월 29일, 최진영은 서울특별시 강남구 논현동의 자택에서 스스로 세상을 떠났다.\n",
      "\n",
      "[1]{막시밀리아노 1세 : 멕시코 케레타로}\n",
      "막시밀리아노 1세(Maximiliano I, 1832년 7월 6일 오스트리아 빈 ~ 1867년 6월 19일 멕시코 케레타로 근처)는 오스트리아의 대공이자 멕시코 제국의 황제이다.\n",
      "\n",
      "[2]{우범선 : 일본 히로시마현 구레}\n",
      "을미사변 때 훈련대 병력을 동원하여 명성황후를 시해하는 데 동참했던 당시 조선훈련대 제2대대장 우범선(禹範善)은 이후 일본에 망명하였는데, 그 후 고영근은 1898년 일본으로 건너가 우연찮게도 대한제국 조선인 망명객 출신인 윤효정과 만나 명성황후 암살 사건 관련 담화 등을 밀담하였고 결국 1903년 11월 24일 일본 히로시마현 구레에 소재했던 자신의 객저(집)로 우범선을 초대한 후 칼로 목과 턱을 찔러 우범선을 살해하였다.\n",
      "\n",
      "[3]{마리 드 메디시스 : 쾰른}\n",
      "마리 드 메디시스 왕비는 1630년 그녀의 아들이었던 루이 13세에 의해 추방당하게 되며 1642년 루벤스가 유년시절을 보냈던 쾰른의 바로 그 집에서 죽었다.\n",
      "\n",
      "[4]{김립 : 상하이}\n",
      "1921년 6월 자유시참변(自由市慘變) 발생 후 상해파 고려공산당의 간부들이 거의 러시아로 이동하여 이르쿠츠크집단과의 군권투쟁을 벌이고 있을 때, 운송책의 한 사람이었던 김립은 혼자서 상해본부를 지키고 있었으며, 1921년 말 임시정부에서 보낸 김구의 부하인 오면직, 노종균 등 청년들이 김립을 찾아 1922년 2월 11일 상하이 불조계의 자베이(閘北) 거리에서 암살당했다.\n",
      "\n",
      "[5]{트라야누스 : 세리누스}\n",
      "병을 얻은 트라야누스는 하드리아누스를 대신 파르티아 원정군의 사령관으로 임명하고 로마로 돌아가지만, 도중에 킬리키아 지방의 세리누스에서 사망하고 만다.\n",
      "\n",
      "per:religion (96)  :  The religion in which the specified person believes\n",
      "\n",
      "[0]{라인홀트 니부어 : 개신교}\n",
      "개신교 신학자이자 유니온 신학교 교수로 일하던 라인홀트 니부어가 신학 교수 자리를 마련한 뒤, 초대장을 보냈기 때문이다.\n",
      "\n",
      "[1]{사무드라굽타 : 힌두교}\n",
      "또한 비문에는 사무드라굽타가 비슈누파 힌두교 신자라는 내용이 언급되어 있는데, 비문에 따르면 사무드라굽타는 전쟁에서 승리할 때마다 베다 시대의 왕들이 큰 승리를 거뒸을 때 거행했던 마제인 아슈바메다를 비롯한 다양한 힌두교 의식들을 수행하였다고 한다.\n",
      "\n",
      "[2]{손병희 : 천도교}\n",
      "러일 전쟁 때 일본군에 적극 협조하고 1905년 손병희가 동학의 전통을 이어 반일 사상을 가진 천도교를 포교하자 이에 맞서 친일 사상을 가진 시천교(侍天敎)를 창설, 교주가 되었다.\n",
      "\n",
      "[3]{구카이 : 진언종}\n",
      "일본의 진언종은 구카이(空海くうかい홍법 대사: 774-835)가 중국 당나라의 장안으로 건너가 청룡사에서 혜과로부터 배운 밀교를 기반으로 하고 있다.\n",
      "\n",
      "[4]{전덕기 : 감리교}\n",
      "윌리엄 벤턴 스크랜턴(William Benton Scranton, 1856~1922) 선교사는 미국 북감리교회에서 한국에 파송한 선교사로 서울 시병원과 아현교회, 상동교회, 동대문교회 등을 설립하였고 전덕기를 비롯한 많은 교회 지도자들을 길러냈다.\n",
      "\n",
      "[5]{도킨스 : 무신론}\n",
      "그는 리처드 도킨스 (Richard Dawkins), 크리스토퍼 히친스 (Christopher Hitchens), 다니엘 데넷 (Daniel Dennett)과 함께 무신론자 4명의 기수 중 한 명으로 여겨진다.\n",
      "\n",
      "per:schools_attended (82)  :  A school where the specified person attended\n",
      "\n",
      "[0]{문성민 : 경기대}\n",
      "문성민은 경기대학교에 입학하여 황동일, 신영석과 함께 경기대학교의 전성기를 이끌면서 하계대회, 전국체전, 최강전 등 3관왕을 이룬다.\n",
      "\n",
      "[1]{김기표 : 경성대}\n",
      "경성대학교 재학 시절 우완 투수 김기표와 입학 동기생이었는데 이 둘은 입단 당시 각각 '좌원삼', '우기표'로 불렸다.\n",
      "\n",
      "[2]{쟝쩐위 : 중앙희극학원}\n",
      "2015년, 중앙희극학원에서 학업 생활을 하던 쟝쩐위는 프랑스의 영화 감독 '장-클로도부라트(Jean-ClaudeBourlat)'에게 중국과 프랑스 공동 제작한 영화 《개왕운적남단》 의 메인 주연으로 캐스팅 되었다.\n",
      "\n",
      "[3]{오선우 : 인하대}\n",
      "오선우 선수는 인하대 시절 1학년 때부터 주전 우익수 자리를 차지했으며 장타율 0.768을 기록했다. 고교 시절에는 타격상, 타점상, 홈런상을 수상했다.\n",
      "\n",
      "[4]{장효조 : 한양대}\n",
      "1975년 한양대학교에 진학한 장효조는 1학년 때 국가대표팀에 선발되었고, 1976년 백호기 대회에서 0.714(14타수 10안타)라는 경이로운 타율을 기록하며 타격왕을 달성하고 4연타석 2루타를 쳐 내는 등 크게 성장할 선수로 큰 기대를 모았다.\n",
      "\n",
      "[5]{고종욱 : 한양대}\n",
      "한양대 2학년 때까지는 평범한 성적을 기록했지만, 3학년 때 고종욱과 함께 빠른 야구를 주도하며 타율을 0.299까지 끌어올렸다.\n",
      "\n"
     ]
    }
   ],
   "source": [
    "for label in labels_under_100:\n",
    "    show_particular_label(label,0,5)"
   ]
  },
  {
   "cell_type": "code",
   "execution_count": 4,
   "metadata": {},
   "outputs": [
    {
     "name": "stdout",
     "output_type": "stream",
     "text": [
      "<class 'tuple'>\n"
     ]
    }
   ],
   "source": [
    "# 문자열로 표현된 파이썬 코드\n",
    "expression = \"[1, 2, 3, 4, 5], [1,2,3]\"\n",
    "\n",
    "# eval 함수를 사용하여 문자열을 파이썬 코드로 실행\n",
    "result = eval(expression)\n",
    "\n",
    "# 결과 출력\n",
    "print(type(result))\n"
   ]
  },
  {
   "cell_type": "code",
   "execution_count": 4,
   "metadata": {},
   "outputs": [],
   "source": [
    "import os\n",
    "os.getcwd()\n",
    "\n",
    "r = '/data/ephemeral/project/level2-klue-nlp-06'\n",
    "os.chdir(r)"
   ]
  },
  {
   "cell_type": "code",
   "execution_count": 26,
   "metadata": {},
   "outputs": [
    {
     "data": {
      "text/plain": [
       "0    〈Something〉는 조지 해리슨이 쓰고 비틀즈가 1969년 앨범 《Abbey R...\n",
       "1    호남이 기반인 바른미래당·대안신당·민주평화당이 우여곡절 끝에 합당해 민생당(가칭)으...\n",
       "2    K리그2에서 성적 1위를 달리고 있는 광주FC는 지난 26일 한국프로축구연맹으로부터...\n",
       "3    균일가 생활용품점 (주)아성다이소(대표 박정부)는 코로나19 바이러스로 어려움을 겪...\n",
       "4    1967년 프로 야구 드래프트 1순위로 요미우리 자이언츠에게 입단하면서 등번호는 8...\n",
       "Name: sentence, dtype: object"
      ]
     },
     "execution_count": 26,
     "metadata": {},
     "output_type": "execute_result"
    }
   ],
   "source": [
    "import os\n",
    "import json\n",
    "import pandas as pd\n",
    "\n",
    "\n",
    "selected_config = 'augment_config.json' \n",
    "with open(f'./configs/{selected_config}', 'r') as f:\n",
    "        config = json.load(f)\n",
    "\n",
    "train_df = pd.read_csv(config['data_path']['train_path'])\n",
    "test_df = pd.read_csv(config['data_path']['test_path'])\n",
    "total_df = pd.concat([train_df, test_df])"
   ]
  },
  {
   "cell_type": "code",
   "execution_count": 30,
   "metadata": {},
   "outputs": [
    {
     "data": {
      "text/plain": [
       "[0, 5891, 16, 4, 2]"
      ]
     },
     "execution_count": 30,
     "metadata": {},
     "output_type": "execute_result"
    }
   ],
   "source": [
    "from transformers import (\n",
    "    AutoModelForMaskedLM,\n",
    "    AutoTokenizer,\n",
    "    DataCollatorForLanguageModeling,\n",
    "    Trainer,\n",
    "    TrainingArguments,\n",
    ")\n",
    "\n",
    "tokenizer = AutoTokenizer.from_pretrained(\"klue/roberta-large\")\n",
    "\n",
    "sentence = \"안녕 , [MASK]\"\n",
    "\n",
    "tokenizer.encode(sentence)"
   ]
  },
  {
   "cell_type": "code",
   "execution_count": 31,
   "metadata": {},
   "outputs": [
    {
     "data": {
      "text/plain": [
       "'[MASK]'"
      ]
     },
     "execution_count": 31,
     "metadata": {},
     "output_type": "execute_result"
    }
   ],
   "source": [
    "tokenizer.decode(4)"
   ]
  },
  {
   "cell_type": "code",
   "execution_count": 3,
   "metadata": {},
   "outputs": [
    {
     "data": {
      "text/plain": [
       "'/data/ephemeral/project/level2-klue-nlp-06/data_analysis'"
      ]
     },
     "execution_count": 3,
     "metadata": {},
     "output_type": "execute_result"
    }
   ],
   "source": [
    "import os\n",
    "os.getcwd()"
   ]
  },
  {
   "cell_type": "code",
   "execution_count": 33,
   "metadata": {},
   "outputs": [],
   "source": [
    "import os\n",
    "\n",
    "os.chdir('/data/ephemeral/project/level2-klue-nlp-06')"
   ]
  },
  {
   "cell_type": "code",
   "execution_count": 206,
   "metadata": {},
   "outputs": [],
   "source": [
    "import os\n",
    "import json\n",
    "import pandas as pd\n",
    "\n",
    "from transformers import AutoModelForMaskedLM, AutoTokenizer\n",
    "import torch\n",
    "import torch.nn.functional as F\n",
    "import random\n",
    "from tqdm import tqdm \n",
    "import ast\n",
    "\n",
    "\n",
    "\n",
    "with open(f'./configs/augment_config.json', 'r') as f:\n",
    "    config = json.load(f)\n",
    "\n",
    "train_df = pd.read_csv(config['data_path']['train_path'])\n",
    "test_df = pd.read_csv(config['data_path']['test_path'])\n",
    "total_df = pd.concat([train_df, test_df], ignore_index = True)\n",
    "\n",
    "model = AutoModelForMaskedLM.from_pretrained(\"./augmentation/augment\")\n",
    "tokenizer = AutoTokenizer.from_pretrained(\"./augmentation/augment\")"
   ]
  },
  {
   "cell_type": "code",
   "execution_count": 207,
   "metadata": {},
   "outputs": [
    {
     "data": {
      "text/plain": [
       "0          0\n",
       "1          1\n",
       "2          2\n",
       "3          3\n",
       "4          4\n",
       "        ... \n",
       "7760    7760\n",
       "7761    7761\n",
       "7762    7762\n",
       "7763    7763\n",
       "7764    7764\n",
       "Name: id, Length: 40235, dtype: int64"
      ]
     },
     "execution_count": 207,
     "metadata": {},
     "output_type": "execute_result"
    }
   ],
   "source": [
    "total_df['id']"
   ]
  },
  {
   "cell_type": "code",
   "execution_count": 195,
   "metadata": {},
   "outputs": [
    {
     "name": "stderr",
     "output_type": "stream",
     "text": [
      " 50%|█████     | 32470/64940 [02:00<02:00, 269.48it/s]\n"
     ]
    },
    {
     "ename": "KeyError",
     "evalue": "32470",
     "output_type": "error",
     "traceback": [
      "\u001b[0;31m---------------------------------------------------------------------------\u001b[0m",
      "\u001b[0;31mKeyError\u001b[0m                                  Traceback (most recent call last)",
      "File \u001b[0;32m~/miniconda3/envs/klue/lib/python3.9/site-packages/pandas/core/indexes/base.py:2898\u001b[0m, in \u001b[0;36mIndex.get_loc\u001b[0;34m(self, key, method, tolerance)\u001b[0m\n\u001b[1;32m   2897\u001b[0m \u001b[39mtry\u001b[39;00m:\n\u001b[0;32m-> 2898\u001b[0m     \u001b[39mreturn\u001b[39;00m \u001b[39mself\u001b[39;49m\u001b[39m.\u001b[39;49m_engine\u001b[39m.\u001b[39;49mget_loc(casted_key)\n\u001b[1;32m   2899\u001b[0m \u001b[39mexcept\u001b[39;00m \u001b[39mKeyError\u001b[39;00m \u001b[39mas\u001b[39;00m err:\n",
      "File \u001b[0;32mpandas/_libs/index.pyx:70\u001b[0m, in \u001b[0;36mpandas._libs.index.IndexEngine.get_loc\u001b[0;34m()\u001b[0m\n",
      "File \u001b[0;32mpandas/_libs/index.pyx:96\u001b[0m, in \u001b[0;36mpandas._libs.index.IndexEngine.get_loc\u001b[0;34m()\u001b[0m\n",
      "File \u001b[0;32mpandas/_libs/index.pyx:126\u001b[0m, in \u001b[0;36mpandas._libs.index.IndexEngine._get_loc_duplicates\u001b[0;34m()\u001b[0m\n",
      "File \u001b[0;32mpandas/_libs/index_class_helper.pxi:120\u001b[0m, in \u001b[0;36mpandas._libs.index.Int64Engine._maybe_get_bool_indexer\u001b[0;34m()\u001b[0m\n",
      "File \u001b[0;32mpandas/_libs/index.pyx:150\u001b[0m, in \u001b[0;36mpandas._libs.index.IndexEngine._unpack_bool_indexer\u001b[0;34m()\u001b[0m\n",
      "\u001b[0;31mKeyError\u001b[0m: 32470",
      "\nThe above exception was the direct cause of the following exception:\n",
      "\u001b[0;31mKeyError\u001b[0m                                  Traceback (most recent call last)",
      "\u001b[1;32m/data/ephemeral/project/level2-klue-nlp-06/data_analysis/mhs.ipynb 셀 30\u001b[0m in \u001b[0;36m<cell line: 5>\u001b[0;34m()\u001b[0m\n\u001b[1;32m     <a href='vscode-notebook-cell://ssh-remote%2B10.28.224.155/data/ephemeral/project/level2-klue-nlp-06/data_analysis/mhs.ipynb#X55sdnNjb2RlLXJlbW90ZQ%3D%3D?line=12'>13</a>\u001b[0m     subject_word_one \u001b[39m=\u001b[39m subject_word\u001b[39m.\u001b[39mreplace(\u001b[39m'\u001b[39m\u001b[39m \u001b[39m\u001b[39m'\u001b[39m, \u001b[39m'\u001b[39m\u001b[39m'\u001b[39m)\n\u001b[1;32m     <a href='vscode-notebook-cell://ssh-remote%2B10.28.224.155/data/ephemeral/project/level2-klue-nlp-06/data_analysis/mhs.ipynb#X55sdnNjb2RlLXJlbW90ZQ%3D%3D?line=13'>14</a>\u001b[0m     object_word_one \u001b[39m=\u001b[39m object_word\u001b[39m.\u001b[39mreplace(\u001b[39m'\u001b[39m\u001b[39m \u001b[39m\u001b[39m'\u001b[39m, \u001b[39m'\u001b[39m\u001b[39m'\u001b[39m)\n\u001b[0;32m---> <a href='vscode-notebook-cell://ssh-remote%2B10.28.224.155/data/ephemeral/project/level2-klue-nlp-06/data_analysis/mhs.ipynb#X55sdnNjb2RlLXJlbW90ZQ%3D%3D?line=17'>18</a>\u001b[0m     total_df\u001b[39m.\u001b[39mloc[i, \u001b[39m'\u001b[39m\u001b[39msentence\u001b[39m\u001b[39m'\u001b[39m] \u001b[39m=\u001b[39m total_df\u001b[39m.\u001b[39;49mloc[i, \u001b[39m'\u001b[39;49m\u001b[39msentence\u001b[39;49m\u001b[39m'\u001b[39;49m]\u001b[39m.\u001b[39mreplace([subject_word, object_word], [subject_word_one, object_word_one], regex\u001b[39m=\u001b[39m\u001b[39mTrue\u001b[39;00m)\n\u001b[1;32m     <a href='vscode-notebook-cell://ssh-remote%2B10.28.224.155/data/ephemeral/project/level2-klue-nlp-06/data_analysis/mhs.ipynb#X55sdnNjb2RlLXJlbW90ZQ%3D%3D?line=19'>20</a>\u001b[0m total_df\u001b[39m.\u001b[39minfo()\n",
      "File \u001b[0;32m~/miniconda3/envs/klue/lib/python3.9/site-packages/pandas/core/indexing.py:873\u001b[0m, in \u001b[0;36m_LocationIndexer.__getitem__\u001b[0;34m(self, key)\u001b[0m\n\u001b[1;32m    870\u001b[0m         \u001b[39mexcept\u001b[39;00m (\u001b[39mKeyError\u001b[39;00m, \u001b[39mIndexError\u001b[39;00m, \u001b[39mAttributeError\u001b[39;00m):\n\u001b[1;32m    871\u001b[0m             \u001b[39m# AttributeError for IntervalTree get_value\u001b[39;00m\n\u001b[1;32m    872\u001b[0m             \u001b[39mpass\u001b[39;00m\n\u001b[0;32m--> 873\u001b[0m     \u001b[39mreturn\u001b[39;00m \u001b[39mself\u001b[39;49m\u001b[39m.\u001b[39;49m_getitem_tuple(key)\n\u001b[1;32m    874\u001b[0m \u001b[39melse\u001b[39;00m:\n\u001b[1;32m    875\u001b[0m     \u001b[39m# we by definition only have the 0th axis\u001b[39;00m\n\u001b[1;32m    876\u001b[0m     axis \u001b[39m=\u001b[39m \u001b[39mself\u001b[39m\u001b[39m.\u001b[39maxis \u001b[39mor\u001b[39;00m \u001b[39m0\u001b[39m\n",
      "File \u001b[0;32m~/miniconda3/envs/klue/lib/python3.9/site-packages/pandas/core/indexing.py:1044\u001b[0m, in \u001b[0;36m_LocIndexer._getitem_tuple\u001b[0;34m(self, tup)\u001b[0m\n\u001b[1;32m   1042\u001b[0m \u001b[39mdef\u001b[39;00m \u001b[39m_getitem_tuple\u001b[39m(\u001b[39mself\u001b[39m, tup: Tuple):\n\u001b[1;32m   1043\u001b[0m     \u001b[39mtry\u001b[39;00m:\n\u001b[0;32m-> 1044\u001b[0m         \u001b[39mreturn\u001b[39;00m \u001b[39mself\u001b[39;49m\u001b[39m.\u001b[39;49m_getitem_lowerdim(tup)\n\u001b[1;32m   1045\u001b[0m     \u001b[39mexcept\u001b[39;00m IndexingError:\n\u001b[1;32m   1046\u001b[0m         \u001b[39mpass\u001b[39;00m\n",
      "File \u001b[0;32m~/miniconda3/envs/klue/lib/python3.9/site-packages/pandas/core/indexing.py:786\u001b[0m, in \u001b[0;36m_LocationIndexer._getitem_lowerdim\u001b[0;34m(self, tup)\u001b[0m\n\u001b[1;32m    782\u001b[0m \u001b[39mfor\u001b[39;00m i, key \u001b[39min\u001b[39;00m \u001b[39menumerate\u001b[39m(tup):\n\u001b[1;32m    783\u001b[0m     \u001b[39mif\u001b[39;00m is_label_like(key):\n\u001b[1;32m    784\u001b[0m         \u001b[39m# We don't need to check for tuples here because those are\u001b[39;00m\n\u001b[1;32m    785\u001b[0m         \u001b[39m#  caught by the _is_nested_tuple_indexer check above.\u001b[39;00m\n\u001b[0;32m--> 786\u001b[0m         section \u001b[39m=\u001b[39m \u001b[39mself\u001b[39;49m\u001b[39m.\u001b[39;49m_getitem_axis(key, axis\u001b[39m=\u001b[39;49mi)\n\u001b[1;32m    788\u001b[0m         \u001b[39m# We should never have a scalar section here, because\u001b[39;00m\n\u001b[1;32m    789\u001b[0m         \u001b[39m#  _getitem_lowerdim is only called after a check for\u001b[39;00m\n\u001b[1;32m    790\u001b[0m         \u001b[39m#  is_scalar_access, which that would be.\u001b[39;00m\n\u001b[1;32m    791\u001b[0m         \u001b[39mif\u001b[39;00m section\u001b[39m.\u001b[39mndim \u001b[39m==\u001b[39m \u001b[39mself\u001b[39m\u001b[39m.\u001b[39mndim:\n\u001b[1;32m    792\u001b[0m             \u001b[39m# we're in the middle of slicing through a MultiIndex\u001b[39;00m\n\u001b[1;32m    793\u001b[0m             \u001b[39m# revise the key wrt to `section` by inserting an _NS\u001b[39;00m\n",
      "File \u001b[0;32m~/miniconda3/envs/klue/lib/python3.9/site-packages/pandas/core/indexing.py:1110\u001b[0m, in \u001b[0;36m_LocIndexer._getitem_axis\u001b[0;34m(self, key, axis)\u001b[0m\n\u001b[1;32m   1108\u001b[0m \u001b[39m# fall thru to straight lookup\u001b[39;00m\n\u001b[1;32m   1109\u001b[0m \u001b[39mself\u001b[39m\u001b[39m.\u001b[39m_validate_key(key, axis)\n\u001b[0;32m-> 1110\u001b[0m \u001b[39mreturn\u001b[39;00m \u001b[39mself\u001b[39;49m\u001b[39m.\u001b[39;49m_get_label(key, axis\u001b[39m=\u001b[39;49maxis)\n",
      "File \u001b[0;32m~/miniconda3/envs/klue/lib/python3.9/site-packages/pandas/core/indexing.py:1059\u001b[0m, in \u001b[0;36m_LocIndexer._get_label\u001b[0;34m(self, label, axis)\u001b[0m\n\u001b[1;32m   1057\u001b[0m \u001b[39mdef\u001b[39;00m \u001b[39m_get_label\u001b[39m(\u001b[39mself\u001b[39m, label, axis: \u001b[39mint\u001b[39m):\n\u001b[1;32m   1058\u001b[0m     \u001b[39m# GH#5667 this will fail if the label is not present in the axis.\u001b[39;00m\n\u001b[0;32m-> 1059\u001b[0m     \u001b[39mreturn\u001b[39;00m \u001b[39mself\u001b[39;49m\u001b[39m.\u001b[39;49mobj\u001b[39m.\u001b[39;49mxs(label, axis\u001b[39m=\u001b[39;49maxis)\n",
      "File \u001b[0;32m~/miniconda3/envs/klue/lib/python3.9/site-packages/pandas/core/generic.py:3493\u001b[0m, in \u001b[0;36mNDFrame.xs\u001b[0;34m(self, key, axis, level, drop_level)\u001b[0m\n\u001b[1;32m   3491\u001b[0m     loc, new_index \u001b[39m=\u001b[39m \u001b[39mself\u001b[39m\u001b[39m.\u001b[39mindex\u001b[39m.\u001b[39mget_loc_level(key, drop_level\u001b[39m=\u001b[39mdrop_level)\n\u001b[1;32m   3492\u001b[0m \u001b[39melse\u001b[39;00m:\n\u001b[0;32m-> 3493\u001b[0m     loc \u001b[39m=\u001b[39m \u001b[39mself\u001b[39;49m\u001b[39m.\u001b[39;49mindex\u001b[39m.\u001b[39;49mget_loc(key)\n\u001b[1;32m   3495\u001b[0m     \u001b[39mif\u001b[39;00m \u001b[39misinstance\u001b[39m(loc, np\u001b[39m.\u001b[39mndarray):\n\u001b[1;32m   3496\u001b[0m         \u001b[39mif\u001b[39;00m loc\u001b[39m.\u001b[39mdtype \u001b[39m==\u001b[39m np\u001b[39m.\u001b[39mbool_:\n",
      "File \u001b[0;32m~/miniconda3/envs/klue/lib/python3.9/site-packages/pandas/core/indexes/base.py:2900\u001b[0m, in \u001b[0;36mIndex.get_loc\u001b[0;34m(self, key, method, tolerance)\u001b[0m\n\u001b[1;32m   2898\u001b[0m         \u001b[39mreturn\u001b[39;00m \u001b[39mself\u001b[39m\u001b[39m.\u001b[39m_engine\u001b[39m.\u001b[39mget_loc(casted_key)\n\u001b[1;32m   2899\u001b[0m     \u001b[39mexcept\u001b[39;00m \u001b[39mKeyError\u001b[39;00m \u001b[39mas\u001b[39;00m err:\n\u001b[0;32m-> 2900\u001b[0m         \u001b[39mraise\u001b[39;00m \u001b[39mKeyError\u001b[39;00m(key) \u001b[39mfrom\u001b[39;00m \u001b[39merr\u001b[39;00m\n\u001b[1;32m   2902\u001b[0m \u001b[39mif\u001b[39;00m tolerance \u001b[39mis\u001b[39;00m \u001b[39mnot\u001b[39;00m \u001b[39mNone\u001b[39;00m:\n\u001b[1;32m   2903\u001b[0m     tolerance \u001b[39m=\u001b[39m \u001b[39mself\u001b[39m\u001b[39m.\u001b[39m_convert_tolerance(tolerance, np\u001b[39m.\u001b[39masarray(key))\n",
      "\u001b[0;31mKeyError\u001b[0m: 32470"
     ]
    }
   ],
   "source": [
    "train_df = pd.read_csv(config['data_path']['train_path'])\n",
    "test_df = pd.read_csv(config['data_path']['test_path'])\n",
    "total_df = pd.concat([train_df, test_df])\n",
    "\n",
    "for i in tqdm(range(len(total_df))):\n",
    "    data = total_df.iloc[i]\n",
    "\n",
    "    #word 추출\n",
    "    subject_word = ast.literal_eval(data['subject_entity'])['word']\n",
    "    object_word = ast.literal_eval(data['object_entity'])['word']\n",
    "\n",
    "    #word의 띄어쓰기를 없애 한개의 단어로 생성\n",
    "    subject_word_one = subject_word.replace(' ', '')\n",
    "    object_word_one = object_word.replace(' ', '')\n",
    "\n",
    "\n",
    "\n",
    "    total_df.loc[i, 'sentence'] = total_df.loc[i, 'sentence'].replace([subject_word, object_word], [subject_word_one, object_word_one], regex=True)\n",
    "\n",
    "total_df.info()"
   ]
  },
  {
   "attachments": {},
   "cell_type": "markdown",
   "metadata": {},
   "source": [
    "각 entity를 한개의 단어로 만든 뒤 sentnece 길이의 분포 정보를 파악"
   ]
  },
  {
   "cell_type": "code",
   "execution_count": 169,
   "metadata": {},
   "outputs": [
    {
     "name": "stdout",
     "output_type": "stream",
     "text": [
      "id                                                                                0\n",
      "sentence                 〈Something〉는 조지해리슨이 쓰고 비틀즈가 1969년 앨범 《Abbey Road》에 담은 노래다.\n",
      "subject_entity       {'word': '비틀즈', 'start_idx': 24, 'end_idx': 26, 'type': 'ORG'}\n",
      "object_entity     {'word': '조지 해리슨', 'start_idx': 13, 'end_idx': 18, 'type': 'PER'}\n",
      "label                                                                   no_relation\n",
      "source                                                                    wikipedia\n",
      "Name: 0, dtype: object\n"
     ]
    },
    {
     "name": "stderr",
     "output_type": "stream",
     "text": [
      "/tmp/ipykernel_642275/1472822603.py:10: SettingWithCopyWarning: \n",
      "A value is trying to be set on a copy of a slice from a DataFrame\n",
      "\n",
      "See the caveats in the documentation: https://pandas.pydata.org/pandas-docs/stable/user_guide/indexing.html#returning-a-view-versus-a-copy\n",
      "  data['sentence'] = data['sentence'].replace(subject_word, subject_word_one)\n",
      "/tmp/ipykernel_642275/1472822603.py:11: SettingWithCopyWarning: \n",
      "A value is trying to be set on a copy of a slice from a DataFrame\n",
      "\n",
      "See the caveats in the documentation: https://pandas.pydata.org/pandas-docs/stable/user_guide/indexing.html#returning-a-view-versus-a-copy\n",
      "  data['sentence'] = data['sentence'].replace(object_word, object_word_one)\n"
     ]
    }
   ],
   "source": [
    "data = total_df.iloc[0]\n",
    "    \n",
    "subject_word = ast.literal_eval(data['subject_entity'])['word']\n",
    "object_word = ast.literal_eval(data['object_entity'])['word']\n",
    "\n",
    "#word의 띄어쓰기를 없애 한개의 단어로 생성\n",
    "subject_word_one = subject_word.replace(' ', '')\n",
    "object_word_one = object_word.replace(' ', '')\n",
    "\n",
    "data['sentence'] = data['sentence'].replace(subject_word, subject_word_one)\n",
    "data['sentence'] = data['sentence'].replace(object_word, object_word_one)\n",
    "\n",
    "print(data)"
   ]
  },
  {
   "cell_type": "code",
   "execution_count": 104,
   "metadata": {},
   "outputs": [
    {
     "name": "stdout",
     "output_type": "stream",
     "text": [
      "<class 'pandas.core.series.Series'>\n",
      "0              {'word': '비틀즈', 'start_idx': 24, 'end_idx': 26, 'type': 'ORG'}\n",
      "1            {'word': '민주평화당', 'start_idx': 19, 'end_idx': 23, 'type': 'ORG'}\n",
      "2             {'word': '광주FC', 'start_idx': 21, 'end_idx': 24, 'type': 'ORG'}\n",
      "3            {'word': '아성다이소', 'start_idx': 13, 'end_idx': 17, 'type': 'ORG'}\n",
      "4        {'word': '요미우리 자이언츠', 'start_idx': 22, 'end_idx': 30, 'type': 'ORG'}\n",
      "                                         ...                                 \n",
      "32465          {'word': '유기준', 'start_idx': 93, 'end_idx': 95, 'type': 'PER'}\n",
      "32466            {'word': '최시형', 'start_idx': 7, 'end_idx': 9, 'type': 'PER'}\n",
      "32467            {'word': '완도군', 'start_idx': 0, 'end_idx': 2, 'type': 'ORG'}\n",
      "32468           {'word': 'JTBC', 'start_idx': 6, 'end_idx': 9, 'type': 'ORG'}\n",
      "32469            {'word': '화순군', 'start_idx': 0, 'end_idx': 2, 'type': 'ORG'}\n",
      "Name: subject_entity, Length: 64940, dtype: object\n"
     ]
    }
   ],
   "source": [
    "def insert_mask(df):\n",
    "    for i in range(len(df)):\n",
    "        data = df.iloc[i]\n",
    "        \n",
    "        #word 추출\n",
    "        subject_word = ast.literal_eval(data['subject_entity'])['word']\n",
    "        object_word = ast.literal_eval(data['object_entity'])['word']\n",
    "    \n",
    "        #word의 띄어쓰기를 없애 한개의 단어로 생성\n",
    "        subject_word_one = subject_word.replace(' ', '')\n",
    "        object_word_one = object_word.replace(' ', '')\n",
    "        \n",
    "        data['sentence'].replace(subject_word, subject_word_one)\n",
    "        data['sentence'].replace(object_word, object_word_one)\n",
    "\n",
    "        #단어 앞,뒤 공간에 random하게 선정해서 mask 토큰 삽입\n",
    "        #\n",
    "        \n",
    "    return df\n",
    "\n",
    "subject_word = total_df['subject_entity']\n",
    "print(type(subject_word))\n",
    "print(subject_word)\n",
    "\n",
    "#total_df_make_entity_word = total_df.apply(make_entity_word, axis=1)\n",
    "\n",
    "#total_df_make_entity_word.head()"
   ]
  },
  {
   "cell_type": "code",
   "execution_count": 90,
   "metadata": {},
   "outputs": [
    {
     "ename": "KeyError",
     "evalue": "'word'",
     "output_type": "error",
     "traceback": [
      "\u001b[0;31m---------------------------------------------------------------------------\u001b[0m",
      "\u001b[0;31mKeyError\u001b[0m                                  Traceback (most recent call last)",
      "File \u001b[0;32m~/miniconda3/envs/klue/lib/python3.9/site-packages/pandas/core/indexes/base.py:2898\u001b[0m, in \u001b[0;36mIndex.get_loc\u001b[0;34m(self, key, method, tolerance)\u001b[0m\n\u001b[1;32m   2897\u001b[0m \u001b[39mtry\u001b[39;00m:\n\u001b[0;32m-> 2898\u001b[0m     \u001b[39mreturn\u001b[39;00m \u001b[39mself\u001b[39;49m\u001b[39m.\u001b[39;49m_engine\u001b[39m.\u001b[39;49mget_loc(casted_key)\n\u001b[1;32m   2899\u001b[0m \u001b[39mexcept\u001b[39;00m \u001b[39mKeyError\u001b[39;00m \u001b[39mas\u001b[39;00m err:\n",
      "File \u001b[0;32mpandas/_libs/index.pyx:70\u001b[0m, in \u001b[0;36mpandas._libs.index.IndexEngine.get_loc\u001b[0;34m()\u001b[0m\n",
      "File \u001b[0;32mpandas/_libs/index.pyx:96\u001b[0m, in \u001b[0;36mpandas._libs.index.IndexEngine.get_loc\u001b[0;34m()\u001b[0m\n",
      "File \u001b[0;32mpandas/_libs/index.pyx:126\u001b[0m, in \u001b[0;36mpandas._libs.index.IndexEngine._get_loc_duplicates\u001b[0;34m()\u001b[0m\n",
      "File \u001b[0;32mpandas/_libs/index_class_helper.pxi:107\u001b[0m, in \u001b[0;36mpandas._libs.index.Int64Engine._maybe_get_bool_indexer\u001b[0;34m()\u001b[0m\n",
      "File \u001b[0;32mpandas/_libs/index_class_helper.pxi:93\u001b[0m, in \u001b[0;36mpandas._libs.index.Int64Engine._check_type\u001b[0;34m()\u001b[0m\n",
      "\u001b[0;31mKeyError\u001b[0m: 'word'",
      "\nThe above exception was the direct cause of the following exception:\n",
      "\u001b[0;31mKeyError\u001b[0m                                  Traceback (most recent call last)",
      "\u001b[1;32m/data/ephemeral/project/level2-klue-nlp-06/data_analysis/mhs.ipynb 셀 31\u001b[0m in \u001b[0;36m<cell line: 13>\u001b[0;34m()\u001b[0m\n\u001b[1;32m     <a href='vscode-notebook-cell://ssh-remote%2B10.28.224.155/data/ephemeral/project/level2-klue-nlp-06/data_analysis/mhs.ipynb#X56sdnNjb2RlLXJlbW90ZQ%3D%3D?line=9'>10</a>\u001b[0m source \u001b[39m=\u001b[39m data[\u001b[39m\"\u001b[39m\u001b[39msource\u001b[39m\u001b[39m\"\u001b[39m]\n\u001b[1;32m     <a href='vscode-notebook-cell://ssh-remote%2B10.28.224.155/data/ephemeral/project/level2-klue-nlp-06/data_analysis/mhs.ipynb#X56sdnNjb2RlLXJlbW90ZQ%3D%3D?line=11'>12</a>\u001b[0m \u001b[39m#entity에 해당하는 단어 사이에 mask 토큰이 생성되지 않게 띄어쓰기를 없앤 뒤에 mask 토큰을 추가하고 복구\u001b[39;00m\n\u001b[0;32m---> <a href='vscode-notebook-cell://ssh-remote%2B10.28.224.155/data/ephemeral/project/level2-klue-nlp-06/data_analysis/mhs.ipynb#X56sdnNjb2RlLXJlbW90ZQ%3D%3D?line=12'>13</a>\u001b[0m subject_word \u001b[39m=\u001b[39m subject_entity[\u001b[39m'\u001b[39;49m\u001b[39mword\u001b[39;49m\u001b[39m'\u001b[39;49m]\n\u001b[1;32m     <a href='vscode-notebook-cell://ssh-remote%2B10.28.224.155/data/ephemeral/project/level2-klue-nlp-06/data_analysis/mhs.ipynb#X56sdnNjb2RlLXJlbW90ZQ%3D%3D?line=13'>14</a>\u001b[0m object_word \u001b[39m=\u001b[39m object_entity[\u001b[39m'\u001b[39m\u001b[39mword\u001b[39m\u001b[39m'\u001b[39m]\n\u001b[1;32m     <a href='vscode-notebook-cell://ssh-remote%2B10.28.224.155/data/ephemeral/project/level2-klue-nlp-06/data_analysis/mhs.ipynb#X56sdnNjb2RlLXJlbW90ZQ%3D%3D?line=15'>16</a>\u001b[0m subject_word_one \u001b[39m=\u001b[39m subject_word\u001b[39m.\u001b[39mreplace(\u001b[39m'\u001b[39m\u001b[39m \u001b[39m\u001b[39m'\u001b[39m, \u001b[39m'\u001b[39m\u001b[39m'\u001b[39m)\n",
      "File \u001b[0;32m~/miniconda3/envs/klue/lib/python3.9/site-packages/pandas/core/series.py:882\u001b[0m, in \u001b[0;36mSeries.__getitem__\u001b[0;34m(self, key)\u001b[0m\n\u001b[1;32m    879\u001b[0m     \u001b[39mreturn\u001b[39;00m \u001b[39mself\u001b[39m\u001b[39m.\u001b[39m_values[key]\n\u001b[1;32m    881\u001b[0m \u001b[39melif\u001b[39;00m key_is_scalar:\n\u001b[0;32m--> 882\u001b[0m     \u001b[39mreturn\u001b[39;00m \u001b[39mself\u001b[39;49m\u001b[39m.\u001b[39;49m_get_value(key)\n\u001b[1;32m    884\u001b[0m \u001b[39mif\u001b[39;00m is_hashable(key):\n\u001b[1;32m    885\u001b[0m     \u001b[39m# Otherwise index.get_value will raise InvalidIndexError\u001b[39;00m\n\u001b[1;32m    886\u001b[0m     \u001b[39mtry\u001b[39;00m:\n\u001b[1;32m    887\u001b[0m         \u001b[39m# For labels that don't resolve as scalars like tuples and frozensets\u001b[39;00m\n",
      "File \u001b[0;32m~/miniconda3/envs/klue/lib/python3.9/site-packages/pandas/core/series.py:990\u001b[0m, in \u001b[0;36mSeries._get_value\u001b[0;34m(self, label, takeable)\u001b[0m\n\u001b[1;32m    987\u001b[0m     \u001b[39mreturn\u001b[39;00m \u001b[39mself\u001b[39m\u001b[39m.\u001b[39m_values[label]\n\u001b[1;32m    989\u001b[0m \u001b[39m# Similar to Index.get_value, but we do not fall back to positional\u001b[39;00m\n\u001b[0;32m--> 990\u001b[0m loc \u001b[39m=\u001b[39m \u001b[39mself\u001b[39;49m\u001b[39m.\u001b[39;49mindex\u001b[39m.\u001b[39;49mget_loc(label)\n\u001b[1;32m    991\u001b[0m \u001b[39mreturn\u001b[39;00m \u001b[39mself\u001b[39m\u001b[39m.\u001b[39mindex\u001b[39m.\u001b[39m_get_values_for_loc(\u001b[39mself\u001b[39m, loc, label)\n",
      "File \u001b[0;32m~/miniconda3/envs/klue/lib/python3.9/site-packages/pandas/core/indexes/base.py:2900\u001b[0m, in \u001b[0;36mIndex.get_loc\u001b[0;34m(self, key, method, tolerance)\u001b[0m\n\u001b[1;32m   2898\u001b[0m         \u001b[39mreturn\u001b[39;00m \u001b[39mself\u001b[39m\u001b[39m.\u001b[39m_engine\u001b[39m.\u001b[39mget_loc(casted_key)\n\u001b[1;32m   2899\u001b[0m     \u001b[39mexcept\u001b[39;00m \u001b[39mKeyError\u001b[39;00m \u001b[39mas\u001b[39;00m err:\n\u001b[0;32m-> 2900\u001b[0m         \u001b[39mraise\u001b[39;00m \u001b[39mKeyError\u001b[39;00m(key) \u001b[39mfrom\u001b[39;00m \u001b[39merr\u001b[39;00m\n\u001b[1;32m   2902\u001b[0m \u001b[39mif\u001b[39;00m tolerance \u001b[39mis\u001b[39;00m \u001b[39mnot\u001b[39;00m \u001b[39mNone\u001b[39;00m:\n\u001b[1;32m   2903\u001b[0m     tolerance \u001b[39m=\u001b[39m \u001b[39mself\u001b[39m\u001b[39m.\u001b[39m_convert_tolerance(tolerance, np\u001b[39m.\u001b[39masarray(key))\n",
      "\u001b[0;31mKeyError\u001b[0m: 'word'"
     ]
    }
   ],
   "source": [
    "train_df = pd.read_csv(config['data_path']['train_path'])\n",
    "test_df = pd.read_csv(config['data_path']['test_path'])\n",
    "df = pd.concat([train_df, test_df])\n",
    "\n",
    "df['subject_entity'] = df[\"subject_entity\"]\n",
    "df['object_entity'] = df[\"object_entity\"]\n",
    "\n",
    "#entity에 해당하는 단어 사이에 mask 토큰이 생성되지 않게 띄어쓰기를 없앤 뒤에 mask 토큰을 추가하고 복구\n",
    "subject_word = subject_entity['word']\n",
    "object_word = object_entity['word']\n",
    "\n",
    "subject_word_one = subject_word.replace(' ', '')\n",
    "object_word_one = object_word.replace(' ', '')\n",
    "\n",
    "sentence = sentence.replace(subject_word,subject_word_one)\n",
    "sentence = sentence.replace(object_word,object_word_one)\n",
    "\n",
    "print(sentence)"
   ]
  },
  {
   "cell_type": "code",
   "execution_count": 36,
   "metadata": {},
   "outputs": [],
   "source": [
    "#mask 토큰의 모든 위치를 찾아주는 함수\n",
    "\n",
    "def find_mask_loc(list):\n",
    "    indices = []\n",
    "    try:\n",
    "        index = -1\n",
    "        while True:\n",
    "            index = list.index(\"[MASK]\", index+1)\n",
    "            indices.append(index)\n",
    "    except ValueError:\n",
    "        return indices"
   ]
  },
  {
   "cell_type": "code",
   "execution_count": 44,
   "metadata": {},
   "outputs": [
    {
     "name": "stdout",
     "output_type": "stream",
     "text": [
      "[]\n",
      "[[0, 168, 30985, 14451, 7088, 4586, 169, 793, 8373, 14113, 2234, 2052, 1363, 2088, 29830, 2116, 14879, 2440, 6711, 170, 21406, 26713, 2076, 25145, 5749, 171, 1421, 818, 2073, 4388, 2062, 18, 4, 2]]\n"
     ]
    }
   ],
   "source": [
    "# sentence_1 = \"안녕하세요, 마스크 토큰을 이용한 데이터 증강 테스트 중입니다. \"\n",
    "# sentence_2 = \"증강이 잘 되었으면 좋겠어!\"\n",
    "# sentence_list = [sentence_1, sentence_2]\n",
    "\n",
    "# mask 토큰에 예측값을 넣는 행위를 마친 후에, sentence 길이에 따라 mask 토큰 수를 다르게 하는 방법 이용\n",
    "\n",
    "with open(f'./configs/augment_config.json', 'r') as f:\n",
    "    config = json.load(f)\n",
    "\n",
    "train_df = pd.read_csv(config['data_path']['train_path'])\n",
    "test_df = pd.read_csv(config['data_path']['test_path'])\n",
    "df = pd.concat([train_df, test_df])\n",
    "\n",
    "model = AutoModelForMaskedLM.from_pretrained(\"./augmentation/augment\")\n",
    "tokenizer = AutoTokenizer.from_pretrained(\"./augmentation/augment\")\n",
    "\n",
    "\n",
    "data = df.iloc[0]\n",
    "\n",
    "index_id = data[\"id\"]\n",
    "sentence = data[\"sentence\"]\n",
    "subject_entity = data[\"subject_entity\"]\n",
    "object_entity = data[\"object_entity\"]\n",
    "label = data[\"label\"]\n",
    "source = data[\"source\"]\n",
    "\n",
    "#entity에 해당하는 단어 사이에 mask 토큰이 생성되지 않게 띄어쓰기를 없앤 뒤에 mask 토큰을 추가하고 복구\n",
    "subject_word = subject_entity['word']\n",
    "object_word = object_entity['word']\n",
    "\n",
    "subject_word_one = subject_word.replace(' ', '')\n",
    "object_word_one = object_word.replace(' ', '')\n",
    "\n",
    "sentence = sentence.replace(subject_word,subject_word_one)\n",
    "sentence = sentence.replace(object_word,object_word_one)\n",
    "    \n",
    "text = []\n",
    " \n",
    "sentence_split = sentence.split()\n",
    "length = len(sentence_split)\n",
    "random_loc = random.randint(0,length)\n",
    "\n",
    "# 순천 대학교 와 같은 단어 사이에는 넣으면 안될텐데 의문이다.\n",
    "### sentence 길이에 따라 mask 토큰의 개수를 설정하는 코드를 작성\n",
    "\n",
    "sentence_split.insert(random_loc, \"[MASK]\")\n",
    "sentence = \" \".join(sentence_split)\n",
    "\n",
    "text.append(sentence)\n",
    "\n",
    "tokenized_text = tokenizer(\n",
    "                text,\n",
    "                return_tensors=\"pt\",\n",
    "                padding=True,\n",
    "                truncation=True,\n",
    "                max_length=256,\n",
    "                add_special_tokens=True,\n",
    "            )\n",
    "\n",
    "output = model(**tokenized_text)\n",
    "logits = output.logits\n",
    "\n",
    "mask_idx_list = []\n",
    "tokens_list = []\n",
    "\n",
    "for tokens in  tokenized_text[\"input_ids\"].tolist():\n",
    "    mask_idx_list = find_mask_loc(tokens)\n",
    "    tokens_list.append(tokens)\n",
    "    \n",
    "    print(mask_idx_list)\n",
    "    print(tokens_list)\n",
    "    # for idx, mask_idx in enumerate(mask_idx_list):\n",
    "    #     logits_pred = torch.argmax(F.softmax(logits[idx], dim=1))\n",
    "    #     mask_probabilities = list(map(float, F.softmax(logits[idx])[mask_idx]))\n",
    "    #     for i in range(len(mask_probabilities)):    \n",
    "    #         mask_probabilities[i] = (mask_probabilities[i],i)    \n",
    "    #     mask_probabilities.sort(reverse=True)\n",
    "        \n",
    "        \n",
    "\n",
    "#for tokens in tokenized_text[\"input_ids\"].tolist():\n",
    "#    print(tokens)"
   ]
  },
  {
   "cell_type": "code",
   "execution_count": 28,
   "metadata": {},
   "outputs": [
    {
     "data": {
      "text/plain": [
       "'[CLS] 안녕하세요, 마스크 토큰을 [MASK] 이용한 데이터 증강 테스트 중입니다. [SEP]'"
      ]
     },
     "execution_count": 28,
     "metadata": {},
     "output_type": "execute_result"
    }
   ],
   "source": [
    "sentence = tokenized_text[\"input_ids\"][0]\n",
    "tokenizer.decode(sentence)"
   ]
  },
  {
   "cell_type": "code",
   "execution_count": 48,
   "metadata": {},
   "outputs": [
    {
     "data": {
      "text/plain": [
       "\"{'word': '비틀즈', 'start_idx': 24, 'end_idx': 26, 'type': 'ORG'}\""
      ]
     },
     "execution_count": 48,
     "metadata": {},
     "output_type": "execute_result"
    }
   ],
   "source": [
    "subject_entity"
   ]
  },
  {
   "cell_type": "code",
   "execution_count": 52,
   "metadata": {},
   "outputs": [
    {
     "name": "stdout",
     "output_type": "stream",
     "text": [
      "〈Something〉는 조지해리슨이 쓰고 비틀즈가 1969년 앨범 《Abbey Road》에 담은 노래다.\n"
     ]
    }
   ],
   "source": [
    "subject_entity = {'word': '비틀즈', 'start_idx': 24, 'end_idx': 26, 'type': 'ORG'}\n",
    "object_entity = {'word': '조지 해리슨', 'start_idx': 13, 'end_idx': 18, 'type': 'PER'}\n",
    "sentence = '〈Something〉는 조지 해리슨이 쓰고 비틀즈가 1969년 앨범 《Abbey Road》에 담은 노래다.' \n",
    "\n",
    "subject_word = subject_entity['word']\n",
    "object_word = object_entity['word']\n",
    "\n",
    "subject_word_one = subject_word.replace(' ','')\n",
    "object_word_one = object_word.replace(' ', '')\n",
    "\n",
    "sentence = sentence.replace(subject_word,subject_word_one)\n",
    "sentence = sentence.replace(object_word,object_word_one)\n",
    "\n",
    "print(sentence)\n",
    "\n"
   ]
  },
  {
   "cell_type": "code",
   "execution_count": null,
   "metadata": {},
   "outputs": [],
   "source": []
  }
 ],
 "metadata": {
  "kernelspec": {
   "display_name": "Python 3",
   "language": "python",
   "name": "python3"
  },
  "language_info": {
   "codemirror_mode": {
    "name": "ipython",
    "version": 3
   },
   "file_extension": ".py",
   "mimetype": "text/x-python",
   "name": "python",
   "nbconvert_exporter": "python",
   "pygments_lexer": "ipython3",
   "version": "3.9.18"
  },
  "orig_nbformat": 4
 },
 "nbformat": 4,
 "nbformat_minor": 2
}
